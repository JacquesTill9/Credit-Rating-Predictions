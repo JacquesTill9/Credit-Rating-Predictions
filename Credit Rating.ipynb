{
 "cells": [
  {
   "cell_type": "markdown",
   "id": "52fe49f9",
   "metadata": {},
   "source": [
    "# Credit Rating Assessment\n",
    "\n",
    "# Imports"
   ]
  },
  {
   "cell_type": "code",
   "execution_count": 1,
   "id": "2aed0c4d",
   "metadata": {},
   "outputs": [],
   "source": [
    "import numpy as np\n",
    "import pandas as pd"
   ]
  },
  {
   "cell_type": "code",
   "execution_count": 2,
   "id": "3d4b9746",
   "metadata": {},
   "outputs": [],
   "source": [
    "import matplotlib.pyplot as plt\n",
    "import seaborn as sns\n",
    "%matplotlib inline\n",
    "sns.set_style('whitegrid')"
   ]
  },
  {
   "cell_type": "markdown",
   "id": "e567bd41",
   "metadata": {},
   "source": [
    "# Data Overview"
   ]
  },
  {
   "cell_type": "code",
   "execution_count": 3,
   "id": "b0b4fd20",
   "metadata": {},
   "outputs": [],
   "source": [
    "df = pd.read_csv('train.csv', index_col='company_id')"
   ]
  },
  {
   "cell_type": "code",
   "execution_count": 4,
   "id": "4f5b01a1",
   "metadata": {},
   "outputs": [],
   "source": [
    "#df.describe().transpose()"
   ]
  },
  {
   "cell_type": "code",
   "execution_count": 5,
   "id": "dae0d00d",
   "metadata": {},
   "outputs": [
    {
     "name": "stdout",
     "output_type": "stream",
     "text": [
      "<class 'pandas.core.frame.DataFrame'>\n",
      "Int64Index: 10964 entries, 1 to 10964\n",
      "Data columns (total 58 columns):\n",
      " #   Column                              Non-Null Count  Dtype  \n",
      "---  ------                              --------------  -----  \n",
      " 0   payment_note_date                   1156 non-null   object \n",
      " 1   payment_note_amount                 3814 non-null   float64\n",
      " 2   financials_date                     10964 non-null  object \n",
      " 3   financials_date-1                   10709 non-null  object \n",
      " 4   financials_date-2                   10186 non-null  object \n",
      " 5   financials_date-3                   9613 non-null   object \n",
      " 6   financials_date-4                   9007 non-null   object \n",
      " 7   revenue                             10964 non-null  int64  \n",
      " 8   revenue-1                           10709 non-null  float64\n",
      " 9   revenue-2                           10186 non-null  float64\n",
      " 10  revenue-3                           9613 non-null   float64\n",
      " 11  revenue-4                           9006 non-null   float64\n",
      " 12  net_sales                           10964 non-null  int64  \n",
      " 13  net_sales-1                         10709 non-null  float64\n",
      " 14  net_sales-2                         10186 non-null  float64\n",
      " 15  net_sales-3                         9613 non-null   float64\n",
      " 16  net_sales-4                         9006 non-null   float64\n",
      " 17  profit_after_net_financial_items    10964 non-null  int64  \n",
      " 18  profit_after_net_financial_items-1  10709 non-null  float64\n",
      " 19  profit_after_net_financial_items-2  10186 non-null  float64\n",
      " 20  profit_after_net_financial_items-3  9613 non-null   float64\n",
      " 21  profit_after_net_financial_items-4  9006 non-null   float64\n",
      " 22  profit                              10964 non-null  int64  \n",
      " 23  profit-1                            10709 non-null  float64\n",
      " 24  profit-2                            10186 non-null  float64\n",
      " 25  profit-3                            9613 non-null   float64\n",
      " 26  profit-4                            9006 non-null   float64\n",
      " 27  assets                              10964 non-null  int64  \n",
      " 28  assets-1                            10709 non-null  float64\n",
      " 29  assets-2                            10186 non-null  float64\n",
      " 30  assets-3                            9613 non-null   float64\n",
      " 31  assets-4                            9006 non-null   float64\n",
      " 32  lt_liabilities                      10963 non-null  float64\n",
      " 33  lt_liabilities-1                    10709 non-null  float64\n",
      " 34  lt_liabilities-2                    10186 non-null  float64\n",
      " 35  lt_liabilities-3                    9613 non-null   float64\n",
      " 36  lt_liabilities-4                    9006 non-null   float64\n",
      " 37  equity                              10964 non-null  int64  \n",
      " 38  equity-1                            10709 non-null  float64\n",
      " 39  equity-2                            10186 non-null  float64\n",
      " 40  equity-3                            9613 non-null   float64\n",
      " 41  equity-4                            9006 non-null   float64\n",
      " 42  equity_ratio                        10964 non-null  float64\n",
      " 43  equity_ratio-1                      10709 non-null  float64\n",
      " 44  equity_ratio-2                      10186 non-null  float64\n",
      " 45  equity_ratio-3                      9613 non-null   float64\n",
      " 46  equity_ratio-4                      9007 non-null   float64\n",
      " 47  profit_margin                       10964 non-null  float64\n",
      " 48  profit_margin-1                     10709 non-null  float64\n",
      " 49  profit_margin-2                     10186 non-null  float64\n",
      " 50  profit_margin-3                     9613 non-null   float64\n",
      " 51  profit_margin-4                     9007 non-null   float64\n",
      " 52  cash_ratio                          10964 non-null  float64\n",
      " 53  cash_ratio-1                        10709 non-null  float64\n",
      " 54  cash_ratio-2                        10186 non-null  float64\n",
      " 55  cash_ratio-3                        9613 non-null   float64\n",
      " 56  cash_ratio-4                        9007 non-null   float64\n",
      " 57  Rating                              10964 non-null  object \n",
      "dtypes: float64(45), int64(6), object(7)\n",
      "memory usage: 4.9+ MB\n"
     ]
    }
   ],
   "source": [
    "df.info()"
   ]
  },
  {
   "cell_type": "code",
   "execution_count": 6,
   "id": "c73c5407",
   "metadata": {},
   "outputs": [
    {
     "data": {
      "text/html": [
       "<div>\n",
       "<style scoped>\n",
       "    .dataframe tbody tr th:only-of-type {\n",
       "        vertical-align: middle;\n",
       "    }\n",
       "\n",
       "    .dataframe tbody tr th {\n",
       "        vertical-align: top;\n",
       "    }\n",
       "\n",
       "    .dataframe thead th {\n",
       "        text-align: right;\n",
       "    }\n",
       "</style>\n",
       "<table border=\"1\" class=\"dataframe\">\n",
       "  <thead>\n",
       "    <tr style=\"text-align: right;\">\n",
       "      <th></th>\n",
       "      <th>payment_note_date</th>\n",
       "      <th>payment_note_amount</th>\n",
       "      <th>financials_date</th>\n",
       "      <th>financials_date-1</th>\n",
       "      <th>financials_date-2</th>\n",
       "      <th>financials_date-3</th>\n",
       "      <th>financials_date-4</th>\n",
       "      <th>revenue</th>\n",
       "      <th>revenue-1</th>\n",
       "      <th>revenue-2</th>\n",
       "      <th>...</th>\n",
       "      <th>profit_margin-1</th>\n",
       "      <th>profit_margin-2</th>\n",
       "      <th>profit_margin-3</th>\n",
       "      <th>profit_margin-4</th>\n",
       "      <th>cash_ratio</th>\n",
       "      <th>cash_ratio-1</th>\n",
       "      <th>cash_ratio-2</th>\n",
       "      <th>cash_ratio-3</th>\n",
       "      <th>cash_ratio-4</th>\n",
       "      <th>Rating</th>\n",
       "    </tr>\n",
       "    <tr>\n",
       "      <th>company_id</th>\n",
       "      <th></th>\n",
       "      <th></th>\n",
       "      <th></th>\n",
       "      <th></th>\n",
       "      <th></th>\n",
       "      <th></th>\n",
       "      <th></th>\n",
       "      <th></th>\n",
       "      <th></th>\n",
       "      <th></th>\n",
       "      <th></th>\n",
       "      <th></th>\n",
       "      <th></th>\n",
       "      <th></th>\n",
       "      <th></th>\n",
       "      <th></th>\n",
       "      <th></th>\n",
       "      <th></th>\n",
       "      <th></th>\n",
       "      <th></th>\n",
       "      <th></th>\n",
       "    </tr>\n",
       "  </thead>\n",
       "  <tbody>\n",
       "    <tr>\n",
       "      <th>1</th>\n",
       "      <td>2014/06/12</td>\n",
       "      <td>6487.0</td>\n",
       "      <td>Aug-18</td>\n",
       "      <td>Aug-17</td>\n",
       "      <td>Aug-16</td>\n",
       "      <td>Aug-15</td>\n",
       "      <td>Aug-14</td>\n",
       "      <td>5677</td>\n",
       "      <td>8673.0</td>\n",
       "      <td>8532.0</td>\n",
       "      <td>...</td>\n",
       "      <td>13.6</td>\n",
       "      <td>10.3</td>\n",
       "      <td>16.8</td>\n",
       "      <td>-5.4</td>\n",
       "      <td>395.5</td>\n",
       "      <td>232.4</td>\n",
       "      <td>184.7</td>\n",
       "      <td>236.4</td>\n",
       "      <td>148.1</td>\n",
       "      <td>AAA</td>\n",
       "    </tr>\n",
       "    <tr>\n",
       "      <th>2</th>\n",
       "      <td>NaN</td>\n",
       "      <td>0.0</td>\n",
       "      <td>Dec-17</td>\n",
       "      <td>Dec-16</td>\n",
       "      <td>Dec-15</td>\n",
       "      <td>Dec-14</td>\n",
       "      <td>Dec-13</td>\n",
       "      <td>10617</td>\n",
       "      <td>8266.0</td>\n",
       "      <td>9713.0</td>\n",
       "      <td>...</td>\n",
       "      <td>9.1</td>\n",
       "      <td>15.9</td>\n",
       "      <td>23.1</td>\n",
       "      <td>16.8</td>\n",
       "      <td>229.0</td>\n",
       "      <td>280.7</td>\n",
       "      <td>296.1</td>\n",
       "      <td>234.0</td>\n",
       "      <td>213.0</td>\n",
       "      <td>AA</td>\n",
       "    </tr>\n",
       "    <tr>\n",
       "      <th>3</th>\n",
       "      <td>NaN</td>\n",
       "      <td>NaN</td>\n",
       "      <td>Dec-17</td>\n",
       "      <td>NaN</td>\n",
       "      <td>NaN</td>\n",
       "      <td>NaN</td>\n",
       "      <td>NaN</td>\n",
       "      <td>7201</td>\n",
       "      <td>NaN</td>\n",
       "      <td>NaN</td>\n",
       "      <td>...</td>\n",
       "      <td>NaN</td>\n",
       "      <td>NaN</td>\n",
       "      <td>NaN</td>\n",
       "      <td>NaN</td>\n",
       "      <td>128.1</td>\n",
       "      <td>NaN</td>\n",
       "      <td>NaN</td>\n",
       "      <td>NaN</td>\n",
       "      <td>NaN</td>\n",
       "      <td>AA</td>\n",
       "    </tr>\n",
       "    <tr>\n",
       "      <th>4</th>\n",
       "      <td>NaN</td>\n",
       "      <td>NaN</td>\n",
       "      <td>Apr-18</td>\n",
       "      <td>Apr-17</td>\n",
       "      <td>Apr-16</td>\n",
       "      <td>Apr-15</td>\n",
       "      <td>Apr-14</td>\n",
       "      <td>22629</td>\n",
       "      <td>20668.0</td>\n",
       "      <td>24591.0</td>\n",
       "      <td>...</td>\n",
       "      <td>0.2</td>\n",
       "      <td>2.9</td>\n",
       "      <td>0.1</td>\n",
       "      <td>1.9</td>\n",
       "      <td>97.8</td>\n",
       "      <td>89.2</td>\n",
       "      <td>82.2</td>\n",
       "      <td>72.4</td>\n",
       "      <td>92.9</td>\n",
       "      <td>A</td>\n",
       "    </tr>\n",
       "    <tr>\n",
       "      <th>5</th>\n",
       "      <td>2015/05/03</td>\n",
       "      <td>85539.0</td>\n",
       "      <td>Jul-18</td>\n",
       "      <td>Jul-17</td>\n",
       "      <td>Jul-16</td>\n",
       "      <td>Jul-15</td>\n",
       "      <td>Jul-14</td>\n",
       "      <td>10221</td>\n",
       "      <td>8358.0</td>\n",
       "      <td>5865.0</td>\n",
       "      <td>...</td>\n",
       "      <td>14.6</td>\n",
       "      <td>-0.4</td>\n",
       "      <td>-0.6</td>\n",
       "      <td>9.7</td>\n",
       "      <td>159.9</td>\n",
       "      <td>183.1</td>\n",
       "      <td>112.5</td>\n",
       "      <td>215.5</td>\n",
       "      <td>134.3</td>\n",
       "      <td>AA</td>\n",
       "    </tr>\n",
       "  </tbody>\n",
       "</table>\n",
       "<p>5 rows × 58 columns</p>\n",
       "</div>"
      ],
      "text/plain": [
       "           payment_note_date  payment_note_amount financials_date  \\\n",
       "company_id                                                          \n",
       "1                 2014/06/12               6487.0          Aug-18   \n",
       "2                        NaN                  0.0          Dec-17   \n",
       "3                        NaN                  NaN          Dec-17   \n",
       "4                        NaN                  NaN          Apr-18   \n",
       "5                 2015/05/03              85539.0          Jul-18   \n",
       "\n",
       "           financials_date-1 financials_date-2 financials_date-3  \\\n",
       "company_id                                                         \n",
       "1                     Aug-17            Aug-16            Aug-15   \n",
       "2                     Dec-16            Dec-15            Dec-14   \n",
       "3                        NaN               NaN               NaN   \n",
       "4                     Apr-17            Apr-16            Apr-15   \n",
       "5                     Jul-17            Jul-16            Jul-15   \n",
       "\n",
       "           financials_date-4  revenue  revenue-1  revenue-2  ...  \\\n",
       "company_id                                                   ...   \n",
       "1                     Aug-14     5677     8673.0     8532.0  ...   \n",
       "2                     Dec-13    10617     8266.0     9713.0  ...   \n",
       "3                        NaN     7201        NaN        NaN  ...   \n",
       "4                     Apr-14    22629    20668.0    24591.0  ...   \n",
       "5                     Jul-14    10221     8358.0     5865.0  ...   \n",
       "\n",
       "            profit_margin-1  profit_margin-2  profit_margin-3  \\\n",
       "company_id                                                      \n",
       "1                      13.6             10.3             16.8   \n",
       "2                       9.1             15.9             23.1   \n",
       "3                       NaN              NaN              NaN   \n",
       "4                       0.2              2.9              0.1   \n",
       "5                      14.6             -0.4             -0.6   \n",
       "\n",
       "            profit_margin-4  cash_ratio  cash_ratio-1  cash_ratio-2  \\\n",
       "company_id                                                            \n",
       "1                      -5.4       395.5         232.4         184.7   \n",
       "2                      16.8       229.0         280.7         296.1   \n",
       "3                       NaN       128.1           NaN           NaN   \n",
       "4                       1.9        97.8          89.2          82.2   \n",
       "5                       9.7       159.9         183.1         112.5   \n",
       "\n",
       "            cash_ratio-3  cash_ratio-4  Rating  \n",
       "company_id                                      \n",
       "1                  236.4         148.1     AAA  \n",
       "2                  234.0         213.0      AA  \n",
       "3                    NaN           NaN      AA  \n",
       "4                   72.4          92.9       A  \n",
       "5                  215.5         134.3      AA  \n",
       "\n",
       "[5 rows x 58 columns]"
      ]
     },
     "execution_count": 6,
     "metadata": {},
     "output_type": "execute_result"
    }
   ],
   "source": [
    "df.head()"
   ]
  },
  {
   "cell_type": "markdown",
   "id": "d8756788",
   "metadata": {},
   "source": [
    "# Missing Data"
   ]
  },
  {
   "cell_type": "code",
   "execution_count": 7,
   "id": "b5c8488a",
   "metadata": {},
   "outputs": [
    {
     "data": {
      "text/plain": [
       "10964"
      ]
     },
     "execution_count": 7,
     "metadata": {},
     "output_type": "execute_result"
    }
   ],
   "source": [
    "len(df)"
   ]
  },
  {
   "cell_type": "code",
   "execution_count": 8,
   "id": "473bfa52",
   "metadata": {},
   "outputs": [
    {
     "data": {
      "text/plain": [
       "payment_note_date                     9808\n",
       "payment_note_amount                   7150\n",
       "financials_date                          0\n",
       "financials_date-1                      255\n",
       "financials_date-2                      778\n",
       "financials_date-3                     1351\n",
       "financials_date-4                     1957\n",
       "revenue                                  0\n",
       "revenue-1                              255\n",
       "revenue-2                              778\n",
       "revenue-3                             1351\n",
       "revenue-4                             1958\n",
       "net_sales                                0\n",
       "net_sales-1                            255\n",
       "net_sales-2                            778\n",
       "net_sales-3                           1351\n",
       "net_sales-4                           1958\n",
       "profit_after_net_financial_items         0\n",
       "profit_after_net_financial_items-1     255\n",
       "profit_after_net_financial_items-2     778\n",
       "profit_after_net_financial_items-3    1351\n",
       "profit_after_net_financial_items-4    1958\n",
       "profit                                   0\n",
       "profit-1                               255\n",
       "profit-2                               778\n",
       "profit-3                              1351\n",
       "profit-4                              1958\n",
       "assets                                   0\n",
       "assets-1                               255\n",
       "assets-2                               778\n",
       "assets-3                              1351\n",
       "assets-4                              1958\n",
       "lt_liabilities                           1\n",
       "lt_liabilities-1                       255\n",
       "lt_liabilities-2                       778\n",
       "lt_liabilities-3                      1351\n",
       "lt_liabilities-4                      1958\n",
       "equity                                   0\n",
       "equity-1                               255\n",
       "equity-2                               778\n",
       "equity-3                              1351\n",
       "equity-4                              1958\n",
       "equity_ratio                             0\n",
       "equity_ratio-1                         255\n",
       "equity_ratio-2                         778\n",
       "equity_ratio-3                        1351\n",
       "equity_ratio-4                        1957\n",
       "profit_margin                            0\n",
       "profit_margin-1                        255\n",
       "profit_margin-2                        778\n",
       "profit_margin-3                       1351\n",
       "profit_margin-4                       1957\n",
       "cash_ratio                               0\n",
       "cash_ratio-1                           255\n",
       "cash_ratio-2                           778\n",
       "cash_ratio-3                          1351\n",
       "cash_ratio-4                          1957\n",
       "Rating                                   0\n",
       "dtype: int64"
      ]
     },
     "execution_count": 8,
     "metadata": {},
     "output_type": "execute_result"
    }
   ],
   "source": [
    "df.isnull().sum()"
   ]
  },
  {
   "cell_type": "markdown",
   "id": "375e637f",
   "metadata": {},
   "source": [
    "### Create dummy variable for payment_note_date"
   ]
  },
  {
   "cell_type": "code",
   "execution_count": 9,
   "id": "075ab0f6",
   "metadata": {},
   "outputs": [],
   "source": [
    "df['payment_note_date'] = pd.get_dummies(df['payment_note_date'].isnull(), drop_first=True)"
   ]
  },
  {
   "cell_type": "code",
   "execution_count": 10,
   "id": "382b148e",
   "metadata": {},
   "outputs": [
    {
     "data": {
      "text/html": [
       "<div>\n",
       "<style scoped>\n",
       "    .dataframe tbody tr th:only-of-type {\n",
       "        vertical-align: middle;\n",
       "    }\n",
       "\n",
       "    .dataframe tbody tr th {\n",
       "        vertical-align: top;\n",
       "    }\n",
       "\n",
       "    .dataframe thead th {\n",
       "        text-align: right;\n",
       "    }\n",
       "</style>\n",
       "<table border=\"1\" class=\"dataframe\">\n",
       "  <thead>\n",
       "    <tr style=\"text-align: right;\">\n",
       "      <th></th>\n",
       "      <th>payment_note_date</th>\n",
       "      <th>payment_note_amount</th>\n",
       "      <th>financials_date</th>\n",
       "      <th>financials_date-1</th>\n",
       "      <th>financials_date-2</th>\n",
       "      <th>financials_date-3</th>\n",
       "      <th>financials_date-4</th>\n",
       "      <th>revenue</th>\n",
       "      <th>revenue-1</th>\n",
       "      <th>revenue-2</th>\n",
       "      <th>...</th>\n",
       "      <th>profit_margin-1</th>\n",
       "      <th>profit_margin-2</th>\n",
       "      <th>profit_margin-3</th>\n",
       "      <th>profit_margin-4</th>\n",
       "      <th>cash_ratio</th>\n",
       "      <th>cash_ratio-1</th>\n",
       "      <th>cash_ratio-2</th>\n",
       "      <th>cash_ratio-3</th>\n",
       "      <th>cash_ratio-4</th>\n",
       "      <th>Rating</th>\n",
       "    </tr>\n",
       "    <tr>\n",
       "      <th>company_id</th>\n",
       "      <th></th>\n",
       "      <th></th>\n",
       "      <th></th>\n",
       "      <th></th>\n",
       "      <th></th>\n",
       "      <th></th>\n",
       "      <th></th>\n",
       "      <th></th>\n",
       "      <th></th>\n",
       "      <th></th>\n",
       "      <th></th>\n",
       "      <th></th>\n",
       "      <th></th>\n",
       "      <th></th>\n",
       "      <th></th>\n",
       "      <th></th>\n",
       "      <th></th>\n",
       "      <th></th>\n",
       "      <th></th>\n",
       "      <th></th>\n",
       "      <th></th>\n",
       "    </tr>\n",
       "  </thead>\n",
       "  <tbody>\n",
       "    <tr>\n",
       "      <th>1</th>\n",
       "      <td>0</td>\n",
       "      <td>6487.0</td>\n",
       "      <td>Aug-18</td>\n",
       "      <td>Aug-17</td>\n",
       "      <td>Aug-16</td>\n",
       "      <td>Aug-15</td>\n",
       "      <td>Aug-14</td>\n",
       "      <td>5677</td>\n",
       "      <td>8673.0</td>\n",
       "      <td>8532.0</td>\n",
       "      <td>...</td>\n",
       "      <td>13.6</td>\n",
       "      <td>10.3</td>\n",
       "      <td>16.8</td>\n",
       "      <td>-5.4</td>\n",
       "      <td>395.5</td>\n",
       "      <td>232.4</td>\n",
       "      <td>184.7</td>\n",
       "      <td>236.4</td>\n",
       "      <td>148.1</td>\n",
       "      <td>AAA</td>\n",
       "    </tr>\n",
       "    <tr>\n",
       "      <th>2</th>\n",
       "      <td>1</td>\n",
       "      <td>0.0</td>\n",
       "      <td>Dec-17</td>\n",
       "      <td>Dec-16</td>\n",
       "      <td>Dec-15</td>\n",
       "      <td>Dec-14</td>\n",
       "      <td>Dec-13</td>\n",
       "      <td>10617</td>\n",
       "      <td>8266.0</td>\n",
       "      <td>9713.0</td>\n",
       "      <td>...</td>\n",
       "      <td>9.1</td>\n",
       "      <td>15.9</td>\n",
       "      <td>23.1</td>\n",
       "      <td>16.8</td>\n",
       "      <td>229.0</td>\n",
       "      <td>280.7</td>\n",
       "      <td>296.1</td>\n",
       "      <td>234.0</td>\n",
       "      <td>213.0</td>\n",
       "      <td>AA</td>\n",
       "    </tr>\n",
       "    <tr>\n",
       "      <th>3</th>\n",
       "      <td>1</td>\n",
       "      <td>NaN</td>\n",
       "      <td>Dec-17</td>\n",
       "      <td>NaN</td>\n",
       "      <td>NaN</td>\n",
       "      <td>NaN</td>\n",
       "      <td>NaN</td>\n",
       "      <td>7201</td>\n",
       "      <td>NaN</td>\n",
       "      <td>NaN</td>\n",
       "      <td>...</td>\n",
       "      <td>NaN</td>\n",
       "      <td>NaN</td>\n",
       "      <td>NaN</td>\n",
       "      <td>NaN</td>\n",
       "      <td>128.1</td>\n",
       "      <td>NaN</td>\n",
       "      <td>NaN</td>\n",
       "      <td>NaN</td>\n",
       "      <td>NaN</td>\n",
       "      <td>AA</td>\n",
       "    </tr>\n",
       "    <tr>\n",
       "      <th>4</th>\n",
       "      <td>1</td>\n",
       "      <td>NaN</td>\n",
       "      <td>Apr-18</td>\n",
       "      <td>Apr-17</td>\n",
       "      <td>Apr-16</td>\n",
       "      <td>Apr-15</td>\n",
       "      <td>Apr-14</td>\n",
       "      <td>22629</td>\n",
       "      <td>20668.0</td>\n",
       "      <td>24591.0</td>\n",
       "      <td>...</td>\n",
       "      <td>0.2</td>\n",
       "      <td>2.9</td>\n",
       "      <td>0.1</td>\n",
       "      <td>1.9</td>\n",
       "      <td>97.8</td>\n",
       "      <td>89.2</td>\n",
       "      <td>82.2</td>\n",
       "      <td>72.4</td>\n",
       "      <td>92.9</td>\n",
       "      <td>A</td>\n",
       "    </tr>\n",
       "    <tr>\n",
       "      <th>5</th>\n",
       "      <td>0</td>\n",
       "      <td>85539.0</td>\n",
       "      <td>Jul-18</td>\n",
       "      <td>Jul-17</td>\n",
       "      <td>Jul-16</td>\n",
       "      <td>Jul-15</td>\n",
       "      <td>Jul-14</td>\n",
       "      <td>10221</td>\n",
       "      <td>8358.0</td>\n",
       "      <td>5865.0</td>\n",
       "      <td>...</td>\n",
       "      <td>14.6</td>\n",
       "      <td>-0.4</td>\n",
       "      <td>-0.6</td>\n",
       "      <td>9.7</td>\n",
       "      <td>159.9</td>\n",
       "      <td>183.1</td>\n",
       "      <td>112.5</td>\n",
       "      <td>215.5</td>\n",
       "      <td>134.3</td>\n",
       "      <td>AA</td>\n",
       "    </tr>\n",
       "  </tbody>\n",
       "</table>\n",
       "<p>5 rows × 58 columns</p>\n",
       "</div>"
      ],
      "text/plain": [
       "            payment_note_date  payment_note_amount financials_date  \\\n",
       "company_id                                                           \n",
       "1                           0               6487.0          Aug-18   \n",
       "2                           1                  0.0          Dec-17   \n",
       "3                           1                  NaN          Dec-17   \n",
       "4                           1                  NaN          Apr-18   \n",
       "5                           0              85539.0          Jul-18   \n",
       "\n",
       "           financials_date-1 financials_date-2 financials_date-3  \\\n",
       "company_id                                                         \n",
       "1                     Aug-17            Aug-16            Aug-15   \n",
       "2                     Dec-16            Dec-15            Dec-14   \n",
       "3                        NaN               NaN               NaN   \n",
       "4                     Apr-17            Apr-16            Apr-15   \n",
       "5                     Jul-17            Jul-16            Jul-15   \n",
       "\n",
       "           financials_date-4  revenue  revenue-1  revenue-2  ...  \\\n",
       "company_id                                                   ...   \n",
       "1                     Aug-14     5677     8673.0     8532.0  ...   \n",
       "2                     Dec-13    10617     8266.0     9713.0  ...   \n",
       "3                        NaN     7201        NaN        NaN  ...   \n",
       "4                     Apr-14    22629    20668.0    24591.0  ...   \n",
       "5                     Jul-14    10221     8358.0     5865.0  ...   \n",
       "\n",
       "            profit_margin-1  profit_margin-2  profit_margin-3  \\\n",
       "company_id                                                      \n",
       "1                      13.6             10.3             16.8   \n",
       "2                       9.1             15.9             23.1   \n",
       "3                       NaN              NaN              NaN   \n",
       "4                       0.2              2.9              0.1   \n",
       "5                      14.6             -0.4             -0.6   \n",
       "\n",
       "            profit_margin-4  cash_ratio  cash_ratio-1  cash_ratio-2  \\\n",
       "company_id                                                            \n",
       "1                      -5.4       395.5         232.4         184.7   \n",
       "2                      16.8       229.0         280.7         296.1   \n",
       "3                       NaN       128.1           NaN           NaN   \n",
       "4                       1.9        97.8          89.2          82.2   \n",
       "5                       9.7       159.9         183.1         112.5   \n",
       "\n",
       "            cash_ratio-3  cash_ratio-4  Rating  \n",
       "company_id                                      \n",
       "1                  236.4         148.1     AAA  \n",
       "2                  234.0         213.0      AA  \n",
       "3                    NaN           NaN      AA  \n",
       "4                   72.4          92.9       A  \n",
       "5                  215.5         134.3      AA  \n",
       "\n",
       "[5 rows x 58 columns]"
      ]
     },
     "execution_count": 10,
     "metadata": {},
     "output_type": "execute_result"
    }
   ],
   "source": [
    "df.head()"
   ]
  },
  {
   "cell_type": "markdown",
   "id": "0ca601da",
   "metadata": {},
   "source": [
    "### Set NaN values of payment_note_amount to 0"
   ]
  },
  {
   "cell_type": "code",
   "execution_count": 11,
   "id": "4ffad225",
   "metadata": {},
   "outputs": [],
   "source": [
    "df['payment_note_amount'] = df['payment_note_amount'].replace(to_replace=np.nan, value=0)"
   ]
  },
  {
   "cell_type": "markdown",
   "id": "e0e57b1e",
   "metadata": {},
   "source": [
    "### Calculating mean of different feature for each Rating"
   ]
  },
  {
   "cell_type": "code",
   "execution_count": 12,
   "id": "81c6209b",
   "metadata": {},
   "outputs": [],
   "source": [
    "df_mean = df.groupby('Rating').mean()"
   ]
  },
  {
   "cell_type": "code",
   "execution_count": 13,
   "id": "e0117069",
   "metadata": {},
   "outputs": [
    {
     "data": {
      "text/html": [
       "<div>\n",
       "<style scoped>\n",
       "    .dataframe tbody tr th:only-of-type {\n",
       "        vertical-align: middle;\n",
       "    }\n",
       "\n",
       "    .dataframe tbody tr th {\n",
       "        vertical-align: top;\n",
       "    }\n",
       "\n",
       "    .dataframe thead th {\n",
       "        text-align: right;\n",
       "    }\n",
       "</style>\n",
       "<table border=\"1\" class=\"dataframe\">\n",
       "  <thead>\n",
       "    <tr style=\"text-align: right;\">\n",
       "      <th></th>\n",
       "      <th>payment_note_date</th>\n",
       "      <th>payment_note_amount</th>\n",
       "      <th>revenue</th>\n",
       "      <th>revenue-1</th>\n",
       "      <th>revenue-2</th>\n",
       "      <th>revenue-3</th>\n",
       "      <th>revenue-4</th>\n",
       "      <th>net_sales</th>\n",
       "      <th>net_sales-1</th>\n",
       "      <th>net_sales-2</th>\n",
       "      <th>...</th>\n",
       "      <th>profit_margin</th>\n",
       "      <th>profit_margin-1</th>\n",
       "      <th>profit_margin-2</th>\n",
       "      <th>profit_margin-3</th>\n",
       "      <th>profit_margin-4</th>\n",
       "      <th>cash_ratio</th>\n",
       "      <th>cash_ratio-1</th>\n",
       "      <th>cash_ratio-2</th>\n",
       "      <th>cash_ratio-3</th>\n",
       "      <th>cash_ratio-4</th>\n",
       "    </tr>\n",
       "    <tr>\n",
       "      <th>Rating</th>\n",
       "      <th></th>\n",
       "      <th></th>\n",
       "      <th></th>\n",
       "      <th></th>\n",
       "      <th></th>\n",
       "      <th></th>\n",
       "      <th></th>\n",
       "      <th></th>\n",
       "      <th></th>\n",
       "      <th></th>\n",
       "      <th></th>\n",
       "      <th></th>\n",
       "      <th></th>\n",
       "      <th></th>\n",
       "      <th></th>\n",
       "      <th></th>\n",
       "      <th></th>\n",
       "      <th></th>\n",
       "      <th></th>\n",
       "      <th></th>\n",
       "      <th></th>\n",
       "    </tr>\n",
       "  </thead>\n",
       "  <tbody>\n",
       "    <tr>\n",
       "      <th>A</th>\n",
       "      <td>0.859981</td>\n",
       "      <td>8135.423841</td>\n",
       "      <td>14082.714286</td>\n",
       "      <td>12828.918797</td>\n",
       "      <td>12498.462567</td>\n",
       "      <td>11954.693326</td>\n",
       "      <td>10796.289312</td>\n",
       "      <td>13883.895932</td>\n",
       "      <td>12629.932832</td>\n",
       "      <td>12319.159358</td>\n",
       "      <td>...</td>\n",
       "      <td>0.697540</td>\n",
       "      <td>7.122055</td>\n",
       "      <td>5.928556</td>\n",
       "      <td>3.657825</td>\n",
       "      <td>2.550491</td>\n",
       "      <td>192.268685</td>\n",
       "      <td>239.557343</td>\n",
       "      <td>195.814332</td>\n",
       "      <td>188.253855</td>\n",
       "      <td>167.954484</td>\n",
       "    </tr>\n",
       "    <tr>\n",
       "      <th>AA</th>\n",
       "      <td>0.957603</td>\n",
       "      <td>1174.674454</td>\n",
       "      <td>14598.295695</td>\n",
       "      <td>12695.806629</td>\n",
       "      <td>11561.806211</td>\n",
       "      <td>10679.515601</td>\n",
       "      <td>9770.775408</td>\n",
       "      <td>14451.779797</td>\n",
       "      <td>12523.396620</td>\n",
       "      <td>11421.004203</td>\n",
       "      <td>...</td>\n",
       "      <td>8.869089</td>\n",
       "      <td>13.441198</td>\n",
       "      <td>9.244291</td>\n",
       "      <td>7.380020</td>\n",
       "      <td>7.681723</td>\n",
       "      <td>177.851287</td>\n",
       "      <td>179.739772</td>\n",
       "      <td>189.149942</td>\n",
       "      <td>202.163085</td>\n",
       "      <td>192.184990</td>\n",
       "    </tr>\n",
       "    <tr>\n",
       "      <th>AAA</th>\n",
       "      <td>0.962284</td>\n",
       "      <td>1647.946480</td>\n",
       "      <td>18893.233118</td>\n",
       "      <td>17880.145115</td>\n",
       "      <td>17154.971264</td>\n",
       "      <td>15006.148454</td>\n",
       "      <td>14111.581772</td>\n",
       "      <td>18627.100216</td>\n",
       "      <td>17667.865661</td>\n",
       "      <td>16932.961566</td>\n",
       "      <td>...</td>\n",
       "      <td>15.417493</td>\n",
       "      <td>16.225359</td>\n",
       "      <td>15.316020</td>\n",
       "      <td>28.959166</td>\n",
       "      <td>17.444308</td>\n",
       "      <td>286.350862</td>\n",
       "      <td>281.637823</td>\n",
       "      <td>269.012536</td>\n",
       "      <td>264.090223</td>\n",
       "      <td>254.544633</td>\n",
       "    </tr>\n",
       "    <tr>\n",
       "      <th>B</th>\n",
       "      <td>0.795045</td>\n",
       "      <td>22159.434685</td>\n",
       "      <td>14480.596847</td>\n",
       "      <td>13590.133570</td>\n",
       "      <td>12683.326452</td>\n",
       "      <td>11637.336195</td>\n",
       "      <td>10975.510433</td>\n",
       "      <td>13991.575450</td>\n",
       "      <td>13083.247045</td>\n",
       "      <td>12187.698065</td>\n",
       "      <td>...</td>\n",
       "      <td>-12.426914</td>\n",
       "      <td>-0.001891</td>\n",
       "      <td>0.304774</td>\n",
       "      <td>-4.864378</td>\n",
       "      <td>-117.644623</td>\n",
       "      <td>38.786374</td>\n",
       "      <td>131.196927</td>\n",
       "      <td>183.496774</td>\n",
       "      <td>184.866667</td>\n",
       "      <td>179.578652</td>\n",
       "    </tr>\n",
       "    <tr>\n",
       "      <th>C</th>\n",
       "      <td>0.320721</td>\n",
       "      <td>82337.322523</td>\n",
       "      <td>12094.046847</td>\n",
       "      <td>11092.979167</td>\n",
       "      <td>9842.620253</td>\n",
       "      <td>8542.223810</td>\n",
       "      <td>7849.907609</td>\n",
       "      <td>11842.756757</td>\n",
       "      <td>10807.611742</td>\n",
       "      <td>9675.345992</td>\n",
       "      <td>...</td>\n",
       "      <td>-4.816396</td>\n",
       "      <td>2.497159</td>\n",
       "      <td>-15.833755</td>\n",
       "      <td>6.363810</td>\n",
       "      <td>1.512737</td>\n",
       "      <td>92.546486</td>\n",
       "      <td>107.398674</td>\n",
       "      <td>178.735443</td>\n",
       "      <td>164.561429</td>\n",
       "      <td>170.818157</td>\n",
       "    </tr>\n",
       "  </tbody>\n",
       "</table>\n",
       "<p>5 rows × 52 columns</p>\n",
       "</div>"
      ],
      "text/plain": [
       "        payment_note_date  payment_note_amount       revenue     revenue-1  \\\n",
       "Rating                                                                       \n",
       "A                0.859981          8135.423841  14082.714286  12828.918797   \n",
       "AA               0.957603          1174.674454  14598.295695  12695.806629   \n",
       "AAA              0.962284          1647.946480  18893.233118  17880.145115   \n",
       "B                0.795045         22159.434685  14480.596847  13590.133570   \n",
       "C                0.320721         82337.322523  12094.046847  11092.979167   \n",
       "\n",
       "           revenue-2     revenue-3     revenue-4     net_sales   net_sales-1  \\\n",
       "Rating                                                                         \n",
       "A       12498.462567  11954.693326  10796.289312  13883.895932  12629.932832   \n",
       "AA      11561.806211  10679.515601   9770.775408  14451.779797  12523.396620   \n",
       "AAA     17154.971264  15006.148454  14111.581772  18627.100216  17667.865661   \n",
       "B       12683.326452  11637.336195  10975.510433  13991.575450  13083.247045   \n",
       "C        9842.620253   8542.223810   7849.907609  11842.756757  10807.611742   \n",
       "\n",
       "         net_sales-2  ...  profit_margin  profit_margin-1  profit_margin-2  \\\n",
       "Rating                ...                                                    \n",
       "A       12319.159358  ...       0.697540         7.122055         5.928556   \n",
       "AA      11421.004203  ...       8.869089        13.441198         9.244291   \n",
       "AAA     16932.961566  ...      15.417493        16.225359        15.316020   \n",
       "B       12187.698065  ...     -12.426914        -0.001891         0.304774   \n",
       "C        9675.345992  ...      -4.816396         2.497159       -15.833755   \n",
       "\n",
       "        profit_margin-3  profit_margin-4  cash_ratio  cash_ratio-1  \\\n",
       "Rating                                                               \n",
       "A              3.657825         2.550491  192.268685    239.557343   \n",
       "AA             7.380020         7.681723  177.851287    179.739772   \n",
       "AAA           28.959166        17.444308  286.350862    281.637823   \n",
       "B             -4.864378      -117.644623   38.786374    131.196927   \n",
       "C              6.363810         1.512737   92.546486    107.398674   \n",
       "\n",
       "        cash_ratio-2  cash_ratio-3  cash_ratio-4  \n",
       "Rating                                            \n",
       "A         195.814332    188.253855    167.954484  \n",
       "AA        189.149942    202.163085    192.184990  \n",
       "AAA       269.012536    264.090223    254.544633  \n",
       "B         183.496774    184.866667    179.578652  \n",
       "C         178.735443    164.561429    170.818157  \n",
       "\n",
       "[5 rows x 52 columns]"
      ]
     },
     "execution_count": 13,
     "metadata": {},
     "output_type": "execute_result"
    }
   ],
   "source": [
    "df_mean"
   ]
  },
  {
   "cell_type": "code",
   "execution_count": 14,
   "id": "296fc9e0",
   "metadata": {},
   "outputs": [],
   "source": [
    "def rating_mean(num, rating, feature):\n",
    "    if pd.isna(num):\n",
    "        if rating == 'AAA':\n",
    "            return df_mean.loc['AAA'][feature]\n",
    "        if rating == 'AA':\n",
    "            return df_mean.loc['AA'][feature]\n",
    "        if rating == 'A':\n",
    "            return df_mean.loc['A'][feature]\n",
    "        if rating == 'B':\n",
    "            return df_mean.loc['B'][feature]\n",
    "        if rating == 'C':\n",
    "            return df_mean.loc['C'][feature]\n",
    "    else: return num"
   ]
  },
  {
   "cell_type": "markdown",
   "id": "f37874c9",
   "metadata": {},
   "source": [
    "## Replacing missing values with the mean of their Rating"
   ]
  },
  {
   "cell_type": "code",
   "execution_count": 15,
   "id": "66b87be5",
   "metadata": {},
   "outputs": [],
   "source": [
    "i = 1\n",
    "while i < 5:\n",
    "    df[f'revenue-{i}'] = df.apply(lambda x: rating_mean(x[f'revenue-{i}'], x['Rating'], f'revenue-{i}'), axis=1)\n",
    "    df[f'net_sales-{i}'] = df.apply(lambda x: rating_mean(x[f'net_sales-{i}'], x['Rating'], f'net_sales-{i}'), axis=1)\n",
    "    df[f'profit_after_net_financial_items-{i}'] = df.apply(lambda x: rating_mean(x[f'profit_after_net_financial_items-{i}'], x['Rating'], f'profit_after_net_financial_items-{i}'), axis=1)\n",
    "    df[f'profit-{i}'] = df.apply(lambda x: rating_mean(x[f'profit-{i}'], x['Rating'], f'profit-{i}'), axis=1)\n",
    "    df[f'assets-{i}'] = df.apply(lambda x: rating_mean(x[f'assets-{i}'], x['Rating'], f'assets-{i}'), axis=1)\n",
    "    df[f'lt_liabilities-{i}'] = df.apply(lambda x: rating_mean(x[f'lt_liabilities-{i}'], x['Rating'], f'lt_liabilities-{i}'), axis=1)\n",
    "    df[f'equity-{i}'] = df.apply(lambda x: rating_mean(x[f'equity-{i}'], x['Rating'], f'equity-{i}'), axis=1)\n",
    "    df[f'equity_ratio-{i}'] = df.apply(lambda x: rating_mean(x[f'equity_ratio-{i}'], x['Rating'], f'equity_ratio-{i}'), axis=1)\n",
    "    df[f'profit_margin-{i}'] = df.apply(lambda x: rating_mean(x[f'profit_margin-{i}'], x['Rating'], f'profit_margin-{i}'), axis=1)\n",
    "    df[f'cash_ratio-{i}'] = df.apply(lambda x: rating_mean(x[f'cash_ratio-{i}'], x['Rating'], f'cash_ratio-{i}'), axis=1)\n",
    "    i += 1"
   ]
  },
  {
   "cell_type": "markdown",
   "id": "a5812e9f",
   "metadata": {},
   "source": [
    "## Find lt Liabilities 1 nan value"
   ]
  },
  {
   "cell_type": "code",
   "execution_count": 16,
   "id": "971816a2",
   "metadata": {},
   "outputs": [],
   "source": [
    "#df[df['lt_liabilities'].isnull()].transpose()"
   ]
  },
  {
   "cell_type": "markdown",
   "id": "56be3423",
   "metadata": {},
   "source": [
    "#### All the previous years the lt_liabilities was 0, convert NaN to 0"
   ]
  },
  {
   "cell_type": "code",
   "execution_count": 17,
   "id": "249100a1",
   "metadata": {},
   "outputs": [],
   "source": [
    "df['lt_liabilities'] = df['lt_liabilities'].replace(to_replace=np.nan, value=0)"
   ]
  },
  {
   "cell_type": "code",
   "execution_count": 18,
   "id": "91cf4cf5",
   "metadata": {},
   "outputs": [
    {
     "data": {
      "text/plain": [
       "0.0"
      ]
     },
     "execution_count": 18,
     "metadata": {},
     "output_type": "execute_result"
    }
   ],
   "source": [
    "df.loc[4070]['lt_liabilities']"
   ]
  },
  {
   "cell_type": "markdown",
   "id": "e1ef59ef",
   "metadata": {},
   "source": [
    "## Financial Dates"
   ]
  },
  {
   "cell_type": "code",
   "execution_count": 19,
   "id": "085bd434",
   "metadata": {},
   "outputs": [
    {
     "data": {
      "text/html": [
       "<div>\n",
       "<style scoped>\n",
       "    .dataframe tbody tr th:only-of-type {\n",
       "        vertical-align: middle;\n",
       "    }\n",
       "\n",
       "    .dataframe tbody tr th {\n",
       "        vertical-align: top;\n",
       "    }\n",
       "\n",
       "    .dataframe thead th {\n",
       "        text-align: right;\n",
       "    }\n",
       "</style>\n",
       "<table border=\"1\" class=\"dataframe\">\n",
       "  <thead>\n",
       "    <tr style=\"text-align: right;\">\n",
       "      <th></th>\n",
       "      <th>financials_date</th>\n",
       "      <th>financials_date-1</th>\n",
       "      <th>financials_date-2</th>\n",
       "      <th>financials_date-3</th>\n",
       "      <th>financials_date-4</th>\n",
       "    </tr>\n",
       "    <tr>\n",
       "      <th>company_id</th>\n",
       "      <th></th>\n",
       "      <th></th>\n",
       "      <th></th>\n",
       "      <th></th>\n",
       "      <th></th>\n",
       "    </tr>\n",
       "  </thead>\n",
       "  <tbody>\n",
       "    <tr>\n",
       "      <th>1</th>\n",
       "      <td>Aug-18</td>\n",
       "      <td>Aug-17</td>\n",
       "      <td>Aug-16</td>\n",
       "      <td>Aug-15</td>\n",
       "      <td>Aug-14</td>\n",
       "    </tr>\n",
       "    <tr>\n",
       "      <th>2</th>\n",
       "      <td>Dec-17</td>\n",
       "      <td>Dec-16</td>\n",
       "      <td>Dec-15</td>\n",
       "      <td>Dec-14</td>\n",
       "      <td>Dec-13</td>\n",
       "    </tr>\n",
       "    <tr>\n",
       "      <th>3</th>\n",
       "      <td>Dec-17</td>\n",
       "      <td>NaN</td>\n",
       "      <td>NaN</td>\n",
       "      <td>NaN</td>\n",
       "      <td>NaN</td>\n",
       "    </tr>\n",
       "    <tr>\n",
       "      <th>4</th>\n",
       "      <td>Apr-18</td>\n",
       "      <td>Apr-17</td>\n",
       "      <td>Apr-16</td>\n",
       "      <td>Apr-15</td>\n",
       "      <td>Apr-14</td>\n",
       "    </tr>\n",
       "    <tr>\n",
       "      <th>5</th>\n",
       "      <td>Jul-18</td>\n",
       "      <td>Jul-17</td>\n",
       "      <td>Jul-16</td>\n",
       "      <td>Jul-15</td>\n",
       "      <td>Jul-14</td>\n",
       "    </tr>\n",
       "    <tr>\n",
       "      <th>...</th>\n",
       "      <td>...</td>\n",
       "      <td>...</td>\n",
       "      <td>...</td>\n",
       "      <td>...</td>\n",
       "      <td>...</td>\n",
       "    </tr>\n",
       "    <tr>\n",
       "      <th>10960</th>\n",
       "      <td>Dec-18</td>\n",
       "      <td>Dec-17</td>\n",
       "      <td>Dec-16</td>\n",
       "      <td>Dec-15</td>\n",
       "      <td>Dec-14</td>\n",
       "    </tr>\n",
       "    <tr>\n",
       "      <th>10961</th>\n",
       "      <td>Apr-18</td>\n",
       "      <td>NaN</td>\n",
       "      <td>NaN</td>\n",
       "      <td>NaN</td>\n",
       "      <td>NaN</td>\n",
       "    </tr>\n",
       "    <tr>\n",
       "      <th>10962</th>\n",
       "      <td>Jun-18</td>\n",
       "      <td>Jun-17</td>\n",
       "      <td>Jun-16</td>\n",
       "      <td>Jun-15</td>\n",
       "      <td>Jun-14</td>\n",
       "    </tr>\n",
       "    <tr>\n",
       "      <th>10963</th>\n",
       "      <td>Dec-17</td>\n",
       "      <td>NaN</td>\n",
       "      <td>NaN</td>\n",
       "      <td>NaN</td>\n",
       "      <td>NaN</td>\n",
       "    </tr>\n",
       "    <tr>\n",
       "      <th>10964</th>\n",
       "      <td>Aug-17</td>\n",
       "      <td>Aug-16</td>\n",
       "      <td>Aug-15</td>\n",
       "      <td>Aug-14</td>\n",
       "      <td>Aug-13</td>\n",
       "    </tr>\n",
       "  </tbody>\n",
       "</table>\n",
       "<p>10964 rows × 5 columns</p>\n",
       "</div>"
      ],
      "text/plain": [
       "           financials_date financials_date-1 financials_date-2  \\\n",
       "company_id                                                       \n",
       "1                   Aug-18            Aug-17            Aug-16   \n",
       "2                   Dec-17            Dec-16            Dec-15   \n",
       "3                   Dec-17               NaN               NaN   \n",
       "4                   Apr-18            Apr-17            Apr-16   \n",
       "5                   Jul-18            Jul-17            Jul-16   \n",
       "...                    ...               ...               ...   \n",
       "10960               Dec-18            Dec-17            Dec-16   \n",
       "10961               Apr-18               NaN               NaN   \n",
       "10962               Jun-18            Jun-17            Jun-16   \n",
       "10963               Dec-17               NaN               NaN   \n",
       "10964               Aug-17            Aug-16            Aug-15   \n",
       "\n",
       "           financials_date-3 financials_date-4  \n",
       "company_id                                      \n",
       "1                     Aug-15            Aug-14  \n",
       "2                     Dec-14            Dec-13  \n",
       "3                        NaN               NaN  \n",
       "4                     Apr-15            Apr-14  \n",
       "5                     Jul-15            Jul-14  \n",
       "...                      ...               ...  \n",
       "10960                 Dec-15            Dec-14  \n",
       "10961                    NaN               NaN  \n",
       "10962                 Jun-15            Jun-14  \n",
       "10963                    NaN               NaN  \n",
       "10964                 Aug-14            Aug-13  \n",
       "\n",
       "[10964 rows x 5 columns]"
      ]
     },
     "execution_count": 19,
     "metadata": {},
     "output_type": "execute_result"
    }
   ],
   "source": [
    "df[['financials_date', 'financials_date-1', 'financials_date-2', 'financials_date-3', 'financials_date-4']]"
   ]
  },
  {
   "cell_type": "markdown",
   "id": "a592cc85",
   "metadata": {},
   "source": [
    "#### We can see that the financial dates are repeated features, we can drop the previous years"
   ]
  },
  {
   "cell_type": "code",
   "execution_count": 20,
   "id": "bc838168",
   "metadata": {},
   "outputs": [],
   "source": [
    "df = df.drop(['financials_date-1', 'financials_date-2', 'financials_date-3', 'financials_date-4'], axis=1)"
   ]
  },
  {
   "cell_type": "code",
   "execution_count": 21,
   "id": "cfb6b671",
   "metadata": {},
   "outputs": [
    {
     "data": {
      "text/plain": [
       "payment_note_date                     0\n",
       "payment_note_amount                   0\n",
       "financials_date                       0\n",
       "revenue                               0\n",
       "revenue-1                             0\n",
       "revenue-2                             0\n",
       "revenue-3                             0\n",
       "revenue-4                             0\n",
       "net_sales                             0\n",
       "net_sales-1                           0\n",
       "net_sales-2                           0\n",
       "net_sales-3                           0\n",
       "net_sales-4                           0\n",
       "profit_after_net_financial_items      0\n",
       "profit_after_net_financial_items-1    0\n",
       "profit_after_net_financial_items-2    0\n",
       "profit_after_net_financial_items-3    0\n",
       "profit_after_net_financial_items-4    0\n",
       "profit                                0\n",
       "profit-1                              0\n",
       "profit-2                              0\n",
       "profit-3                              0\n",
       "profit-4                              0\n",
       "assets                                0\n",
       "assets-1                              0\n",
       "assets-2                              0\n",
       "assets-3                              0\n",
       "assets-4                              0\n",
       "lt_liabilities                        0\n",
       "lt_liabilities-1                      0\n",
       "lt_liabilities-2                      0\n",
       "lt_liabilities-3                      0\n",
       "lt_liabilities-4                      0\n",
       "equity                                0\n",
       "equity-1                              0\n",
       "equity-2                              0\n",
       "equity-3                              0\n",
       "equity-4                              0\n",
       "equity_ratio                          0\n",
       "equity_ratio-1                        0\n",
       "equity_ratio-2                        0\n",
       "equity_ratio-3                        0\n",
       "equity_ratio-4                        0\n",
       "profit_margin                         0\n",
       "profit_margin-1                       0\n",
       "profit_margin-2                       0\n",
       "profit_margin-3                       0\n",
       "profit_margin-4                       0\n",
       "cash_ratio                            0\n",
       "cash_ratio-1                          0\n",
       "cash_ratio-2                          0\n",
       "cash_ratio-3                          0\n",
       "cash_ratio-4                          0\n",
       "Rating                                0\n",
       "dtype: int64"
      ]
     },
     "execution_count": 21,
     "metadata": {},
     "output_type": "execute_result"
    }
   ],
   "source": [
    "df.isnull().sum()"
   ]
  },
  {
   "cell_type": "code",
   "execution_count": 22,
   "id": "cbc8904d",
   "metadata": {},
   "outputs": [],
   "source": [
    "df['financials_date'] = df['financials_date'].apply(lambda x: x[:3])"
   ]
  },
  {
   "cell_type": "code",
   "execution_count": 23,
   "id": "8efda8d8",
   "metadata": {},
   "outputs": [
    {
     "data": {
      "text/plain": [
       "Dec    6035\n",
       "Aug    1681\n",
       "Apr    1505\n",
       "Jun    1338\n",
       "Mar      87\n",
       "Sep      72\n",
       "Oct      67\n",
       "Feb      51\n",
       "Jan      39\n",
       "Jul      37\n",
       "May      32\n",
       "Nov      20\n",
       "Name: financials_date, dtype: int64"
      ]
     },
     "execution_count": 23,
     "metadata": {},
     "output_type": "execute_result"
    }
   ],
   "source": [
    "df['financials_date'].value_counts()"
   ]
  },
  {
   "cell_type": "markdown",
   "id": "0936d9b6",
   "metadata": {},
   "source": [
    "### Fixing equity ratio, profit margin and cash ratio values"
   ]
  },
  {
   "cell_type": "code",
   "execution_count": 24,
   "id": "52381173",
   "metadata": {},
   "outputs": [],
   "source": [
    "def fix_perc(num):\n",
    "    if num > 100:\n",
    "        return 100\n",
    "    if num < 0:\n",
    "        return 0\n",
    "    else: return num"
   ]
  },
  {
   "cell_type": "code",
   "execution_count": 25,
   "id": "546bc5be",
   "metadata": {},
   "outputs": [],
   "source": [
    "i = 1\n",
    "while i < 5:\n",
    "    df['equity_ratio'] = df['equity_ratio'].apply(fix_perc)\n",
    "    df[f'equity_ratio-{i}'] = df[f'equity_ratio-{i}'].apply(fix_perc)\n",
    "    df['profit_margin'] = df['profit_margin'].apply(fix_perc)\n",
    "    df[f'profit_margin-{i}'] = df[f'profit_margin-{i}'].apply(fix_perc)\n",
    "    df['cash_ratio'] = df['cash_ratio'].apply(fix_perc)\n",
    "    df[f'cash_ratio-{i}'] = df[f'cash_ratio-{i}'].apply(fix_perc)\n",
    "    i+=1"
   ]
  },
  {
   "cell_type": "markdown",
   "id": "c93b991f",
   "metadata": {},
   "source": [
    "# EDA (Exploratory Data Analysis)"
   ]
  },
  {
   "cell_type": "code",
   "execution_count": 26,
   "id": "563f5294",
   "metadata": {},
   "outputs": [
    {
     "data": {
      "text/plain": [
       "<AxesSubplot:xlabel='Rating', ylabel='count'>"
      ]
     },
     "execution_count": 26,
     "metadata": {},
     "output_type": "execute_result"
    },
    {
     "data": {
      "image/png": "[encoded data removed]",
      "text/plain": [
       "<Figure size 720x432 with 1 Axes>"
      ]
     },
     "metadata": {},
     "output_type": "display_data"
    }
   ],
   "source": [
    "plt.figure(figsize=(10,6))\n",
    "sns.countplot(x='Rating', data=df)"
   ]
  },
  {
   "cell_type": "code",
   "execution_count": 27,
   "id": "f868b285",
   "metadata": {},
   "outputs": [
    {
     "data": {
      "text/plain": [
       "<AxesSubplot:xlabel='Rating', ylabel='count'>"
      ]
     },
     "execution_count": 27,
     "metadata": {},
     "output_type": "execute_result"
    },
    {
     "data": {
      "image/png": "[encoded data removed]",
      "text/plain": [
       "<Figure size 720x432 with 1 Axes>"
      ]
     },
     "metadata": {},
     "output_type": "display_data"
    }
   ],
   "source": [
    "plt.figure(figsize=(10,6))\n",
    "sns.countplot(x='Rating', data=df, hue='payment_note_date')"
   ]
  },
  {
   "cell_type": "code",
   "execution_count": 28,
   "id": "fac252dc",
   "metadata": {},
   "outputs": [
    {
     "data": {
      "text/plain": [
       "<AxesSubplot:xlabel='Rating', ylabel='count'>"
      ]
     },
     "execution_count": 28,
     "metadata": {},
     "output_type": "execute_result"
    },
    {
     "data": {
      "image/png": "[encoded data removed]",
      "text/plain": [
       "<Figure size 720x432 with 1 Axes>"
      ]
     },
     "metadata": {},
     "output_type": "display_data"
    }
   ],
   "source": [
    "plt.figure(figsize=(10,6))\n",
    "sns.countplot(x='Rating', data=df, hue='financials_date')"
   ]
  },
  {
   "cell_type": "code",
   "execution_count": 29,
   "id": "af901572",
   "metadata": {},
   "outputs": [
    {
     "data": {
      "text/plain": [
       "<AxesSubplot:xlabel='financials_date', ylabel='count'>"
      ]
     },
     "execution_count": 29,
     "metadata": {},
     "output_type": "execute_result"
    },
    {
     "data": {
      "image/png": "[encoded data removed]",
      "text/plain": [
       "<Figure size 720x432 with 1 Axes>"
      ]
     },
     "metadata": {},
     "output_type": "display_data"
    }
   ],
   "source": [
    "plt.figure(figsize=(10,6))\n",
    "sns.countplot(x='financials_date', data=df)"
   ]
  },
  {
   "cell_type": "markdown",
   "id": "b9f99854",
   "metadata": {},
   "source": [
    "plt.figure(figsize=(12,10))\n",
    "sns.heatmap(df.corr(), cmap='viridis')"
   ]
  },
  {
   "cell_type": "code",
   "execution_count": 30,
   "id": "28230f67",
   "metadata": {},
   "outputs": [
    {
     "data": {
      "text/plain": [
       "<seaborn.axisgrid.JointGrid at 0x15e8cfe50>"
      ]
     },
     "execution_count": 30,
     "metadata": {},
     "output_type": "execute_result"
    },
    {
     "data": {
      "image/png": "[encoded data removed]",
      "text/plain": [
       "<Figure size 576x576 with 3 Axes>"
      ]
     },
     "metadata": {},
     "output_type": "display_data"
    }
   ],
   "source": [
    "sns.jointplot(x='equity_ratio', y='profit_margin', data=df ,hue='Rating', height=8)"
   ]
  },
  {
   "cell_type": "code",
   "execution_count": 31,
   "id": "3cc29a2c",
   "metadata": {},
   "outputs": [
    {
     "data": {
      "text/plain": [
       "<seaborn.axisgrid.JointGrid at 0x15e995850>"
      ]
     },
     "execution_count": 31,
     "metadata": {},
     "output_type": "execute_result"
    },
    {
     "data": {
      "image/png": "[encoded data removed]",
      "text/plain": [
       "<Figure size 576x576 with 3 Axes>"
      ]
     },
     "metadata": {},
     "output_type": "display_data"
    }
   ],
   "source": [
    "sns.jointplot(x='equity_ratio', y='cash_ratio', data=df ,hue='Rating', height=8)"
   ]
  },
  {
   "cell_type": "code",
   "execution_count": 32,
   "id": "c4ee9c73",
   "metadata": {},
   "outputs": [
    {
     "data": {
      "text/plain": [
       "<seaborn.axisgrid.JointGrid at 0x15eb77be0>"
      ]
     },
     "execution_count": 32,
     "metadata": {},
     "output_type": "execute_result"
    },
    {
     "data": {
      "image/png": "[encoded data removed]",
      "text/plain": [
       "<Figure size 576x576 with 3 Axes>"
      ]
     },
     "metadata": {},
     "output_type": "display_data"
    }
   ],
   "source": [
    "sns.jointplot(x='profit_margin', y='cash_ratio', data=df ,hue='Rating', height=8)"
   ]
  },
  {
   "cell_type": "code",
   "execution_count": 33,
   "id": "e844c02e",
   "metadata": {},
   "outputs": [
    {
     "data": {
      "text/plain": [
       "<AxesSubplot:xlabel='Rating', ylabel='equity_ratio'>"
      ]
     },
     "execution_count": 33,
     "metadata": {},
     "output_type": "execute_result"
    },
    {
     "data": {
      "image/png": "[encoded data removed]",
      "text/plain": [
       "<Figure size 720x432 with 1 Axes>"
      ]
     },
     "metadata": {},
     "output_type": "display_data"
    }
   ],
   "source": [
    "plt.figure(figsize=(10,6))\n",
    "sns.boxplot(x='Rating', y='equity_ratio', data=df)"
   ]
  },
  {
   "cell_type": "code",
   "execution_count": 34,
   "id": "93b67bfc",
   "metadata": {},
   "outputs": [
    {
     "data": {
      "text/plain": [
       "<AxesSubplot:xlabel='Rating', ylabel='profit_margin'>"
      ]
     },
     "execution_count": 34,
     "metadata": {},
     "output_type": "execute_result"
    },
    {
     "data": {
      "image/png": "[encoded data removed]",
      "text/plain": [
       "<Figure size 720x432 with 1 Axes>"
      ]
     },
     "metadata": {},
     "output_type": "display_data"
    }
   ],
   "source": [
    "plt.figure(figsize=(10,6))\n",
    "sns.boxplot(x='Rating', y='profit_margin', data=df)"
   ]
  },
  {
   "cell_type": "code",
   "execution_count": 35,
   "id": "f5a2216f",
   "metadata": {},
   "outputs": [
    {
     "data": {
      "text/plain": [
       "<AxesSubplot:xlabel='Rating', ylabel='cash_ratio'>"
      ]
     },
     "execution_count": 35,
     "metadata": {},
     "output_type": "execute_result"
    },
    {
     "data": {
      "image/png": "[encoded data removed]",
      "text/plain": [
       "<Figure size 720x432 with 1 Axes>"
      ]
     },
     "metadata": {},
     "output_type": "display_data"
    }
   ],
   "source": [
    "plt.figure(figsize=(10,6))\n",
    "sns.boxplot(x='Rating', y='cash_ratio', data=df)"
   ]
  },
  {
   "cell_type": "markdown",
   "id": "4b753a83",
   "metadata": {},
   "source": [
    "# Building the Model"
   ]
  },
  {
   "cell_type": "code",
   "execution_count": 36,
   "id": "3dd5467b",
   "metadata": {},
   "outputs": [
    {
     "data": {
      "text/html": [
       "<div>\n",
       "<style scoped>\n",
       "    .dataframe tbody tr th:only-of-type {\n",
       "        vertical-align: middle;\n",
       "    }\n",
       "\n",
       "    .dataframe tbody tr th {\n",
       "        vertical-align: top;\n",
       "    }\n",
       "\n",
       "    .dataframe thead th {\n",
       "        text-align: right;\n",
       "    }\n",
       "</style>\n",
       "<table border=\"1\" class=\"dataframe\">\n",
       "  <thead>\n",
       "    <tr style=\"text-align: right;\">\n",
       "      <th></th>\n",
       "      <th>payment_note_date</th>\n",
       "      <th>payment_note_amount</th>\n",
       "      <th>financials_date</th>\n",
       "      <th>revenue</th>\n",
       "      <th>revenue-1</th>\n",
       "      <th>revenue-2</th>\n",
       "      <th>revenue-3</th>\n",
       "      <th>revenue-4</th>\n",
       "      <th>net_sales</th>\n",
       "      <th>net_sales-1</th>\n",
       "      <th>...</th>\n",
       "      <th>profit_margin-1</th>\n",
       "      <th>profit_margin-2</th>\n",
       "      <th>profit_margin-3</th>\n",
       "      <th>profit_margin-4</th>\n",
       "      <th>cash_ratio</th>\n",
       "      <th>cash_ratio-1</th>\n",
       "      <th>cash_ratio-2</th>\n",
       "      <th>cash_ratio-3</th>\n",
       "      <th>cash_ratio-4</th>\n",
       "      <th>Rating</th>\n",
       "    </tr>\n",
       "    <tr>\n",
       "      <th>company_id</th>\n",
       "      <th></th>\n",
       "      <th></th>\n",
       "      <th></th>\n",
       "      <th></th>\n",
       "      <th></th>\n",
       "      <th></th>\n",
       "      <th></th>\n",
       "      <th></th>\n",
       "      <th></th>\n",
       "      <th></th>\n",
       "      <th></th>\n",
       "      <th></th>\n",
       "      <th></th>\n",
       "      <th></th>\n",
       "      <th></th>\n",
       "      <th></th>\n",
       "      <th></th>\n",
       "      <th></th>\n",
       "      <th></th>\n",
       "      <th></th>\n",
       "      <th></th>\n",
       "    </tr>\n",
       "  </thead>\n",
       "  <tbody>\n",
       "    <tr>\n",
       "      <th>1</th>\n",
       "      <td>0</td>\n",
       "      <td>6487.0</td>\n",
       "      <td>Aug</td>\n",
       "      <td>5677</td>\n",
       "      <td>8673.000000</td>\n",
       "      <td>8532.000000</td>\n",
       "      <td>7825.000000</td>\n",
       "      <td>5385.000000</td>\n",
       "      <td>5677</td>\n",
       "      <td>8663.00000</td>\n",
       "      <td>...</td>\n",
       "      <td>13.600000</td>\n",
       "      <td>10.300000</td>\n",
       "      <td>16.80000</td>\n",
       "      <td>0.000000</td>\n",
       "      <td>100.0</td>\n",
       "      <td>100.0</td>\n",
       "      <td>100.0</td>\n",
       "      <td>100.0</td>\n",
       "      <td>100.0</td>\n",
       "      <td>AAA</td>\n",
       "    </tr>\n",
       "    <tr>\n",
       "      <th>2</th>\n",
       "      <td>1</td>\n",
       "      <td>0.0</td>\n",
       "      <td>Dec</td>\n",
       "      <td>10617</td>\n",
       "      <td>8266.000000</td>\n",
       "      <td>9713.000000</td>\n",
       "      <td>9428.000000</td>\n",
       "      <td>7394.000000</td>\n",
       "      <td>10506</td>\n",
       "      <td>8254.00000</td>\n",
       "      <td>...</td>\n",
       "      <td>9.100000</td>\n",
       "      <td>15.900000</td>\n",
       "      <td>23.10000</td>\n",
       "      <td>16.800000</td>\n",
       "      <td>100.0</td>\n",
       "      <td>100.0</td>\n",
       "      <td>100.0</td>\n",
       "      <td>100.0</td>\n",
       "      <td>100.0</td>\n",
       "      <td>AA</td>\n",
       "    </tr>\n",
       "    <tr>\n",
       "      <th>3</th>\n",
       "      <td>1</td>\n",
       "      <td>0.0</td>\n",
       "      <td>Dec</td>\n",
       "      <td>7201</td>\n",
       "      <td>12695.806629</td>\n",
       "      <td>11561.806211</td>\n",
       "      <td>10679.515601</td>\n",
       "      <td>9770.775408</td>\n",
       "      <td>7201</td>\n",
       "      <td>12523.39662</td>\n",
       "      <td>...</td>\n",
       "      <td>13.441198</td>\n",
       "      <td>9.244291</td>\n",
       "      <td>7.38002</td>\n",
       "      <td>7.681723</td>\n",
       "      <td>100.0</td>\n",
       "      <td>100.0</td>\n",
       "      <td>100.0</td>\n",
       "      <td>100.0</td>\n",
       "      <td>100.0</td>\n",
       "      <td>AA</td>\n",
       "    </tr>\n",
       "    <tr>\n",
       "      <th>4</th>\n",
       "      <td>1</td>\n",
       "      <td>0.0</td>\n",
       "      <td>Apr</td>\n",
       "      <td>22629</td>\n",
       "      <td>20668.000000</td>\n",
       "      <td>24591.000000</td>\n",
       "      <td>23754.000000</td>\n",
       "      <td>23656.000000</td>\n",
       "      <td>22619</td>\n",
       "      <td>20667.00000</td>\n",
       "      <td>...</td>\n",
       "      <td>0.200000</td>\n",
       "      <td>2.900000</td>\n",
       "      <td>0.10000</td>\n",
       "      <td>1.900000</td>\n",
       "      <td>97.8</td>\n",
       "      <td>89.2</td>\n",
       "      <td>82.2</td>\n",
       "      <td>72.4</td>\n",
       "      <td>92.9</td>\n",
       "      <td>A</td>\n",
       "    </tr>\n",
       "    <tr>\n",
       "      <th>5</th>\n",
       "      <td>0</td>\n",
       "      <td>85539.0</td>\n",
       "      <td>Jul</td>\n",
       "      <td>10221</td>\n",
       "      <td>8358.000000</td>\n",
       "      <td>5865.000000</td>\n",
       "      <td>4038.000000</td>\n",
       "      <td>5128.000000</td>\n",
       "      <td>10216</td>\n",
       "      <td>8358.00000</td>\n",
       "      <td>...</td>\n",
       "      <td>14.600000</td>\n",
       "      <td>0.000000</td>\n",
       "      <td>0.00000</td>\n",
       "      <td>9.700000</td>\n",
       "      <td>100.0</td>\n",
       "      <td>100.0</td>\n",
       "      <td>100.0</td>\n",
       "      <td>100.0</td>\n",
       "      <td>100.0</td>\n",
       "      <td>AA</td>\n",
       "    </tr>\n",
       "  </tbody>\n",
       "</table>\n",
       "<p>5 rows × 54 columns</p>\n",
       "</div>"
      ],
      "text/plain": [
       "            payment_note_date  payment_note_amount financials_date  revenue  \\\n",
       "company_id                                                                    \n",
       "1                           0               6487.0             Aug     5677   \n",
       "2                           1                  0.0             Dec    10617   \n",
       "3                           1                  0.0             Dec     7201   \n",
       "4                           1                  0.0             Apr    22629   \n",
       "5                           0              85539.0             Jul    10221   \n",
       "\n",
       "               revenue-1     revenue-2     revenue-3     revenue-4  net_sales  \\\n",
       "company_id                                                                      \n",
       "1            8673.000000   8532.000000   7825.000000   5385.000000       5677   \n",
       "2            8266.000000   9713.000000   9428.000000   7394.000000      10506   \n",
       "3           12695.806629  11561.806211  10679.515601   9770.775408       7201   \n",
       "4           20668.000000  24591.000000  23754.000000  23656.000000      22619   \n",
       "5            8358.000000   5865.000000   4038.000000   5128.000000      10216   \n",
       "\n",
       "            net_sales-1  ...  profit_margin-1  profit_margin-2  \\\n",
       "company_id               ...                                     \n",
       "1            8663.00000  ...        13.600000        10.300000   \n",
       "2            8254.00000  ...         9.100000        15.900000   \n",
       "3           12523.39662  ...        13.441198         9.244291   \n",
       "4           20667.00000  ...         0.200000         2.900000   \n",
       "5            8358.00000  ...        14.600000         0.000000   \n",
       "\n",
       "            profit_margin-3  profit_margin-4  cash_ratio  cash_ratio-1  \\\n",
       "company_id                                                               \n",
       "1                  16.80000         0.000000       100.0         100.0   \n",
       "2                  23.10000        16.800000       100.0         100.0   \n",
       "3                   7.38002         7.681723       100.0         100.0   \n",
       "4                   0.10000         1.900000        97.8          89.2   \n",
       "5                   0.00000         9.700000       100.0         100.0   \n",
       "\n",
       "            cash_ratio-2  cash_ratio-3  cash_ratio-4  Rating  \n",
       "company_id                                                    \n",
       "1                  100.0         100.0         100.0     AAA  \n",
       "2                  100.0         100.0         100.0      AA  \n",
       "3                  100.0         100.0         100.0      AA  \n",
       "4                   82.2          72.4          92.9       A  \n",
       "5                  100.0         100.0         100.0      AA  \n",
       "\n",
       "[5 rows x 54 columns]"
      ]
     },
     "execution_count": 36,
     "metadata": {},
     "output_type": "execute_result"
    }
   ],
   "source": [
    "df.head()"
   ]
  },
  {
   "cell_type": "markdown",
   "id": "3fd82c18",
   "metadata": {},
   "source": [
    "### Drop Financials date"
   ]
  },
  {
   "cell_type": "code",
   "execution_count": 37,
   "id": "f0fde0f0",
   "metadata": {},
   "outputs": [],
   "source": [
    "df = df.drop('financials_date', axis=1)"
   ]
  },
  {
   "cell_type": "markdown",
   "id": "5fb8f3f7",
   "metadata": {},
   "source": [
    "### Convert Rating to numbers"
   ]
  },
  {
   "cell_type": "code",
   "execution_count": 38,
   "id": "5b89e031",
   "metadata": {},
   "outputs": [
    {
     "data": {
      "text/plain": [
       "AA     4623\n",
       "AAA    2784\n",
       "A      2114\n",
       "B       888\n",
       "C       555\n",
       "Name: Rating, dtype: int64"
      ]
     },
     "execution_count": 38,
     "metadata": {},
     "output_type": "execute_result"
    }
   ],
   "source": [
    "df['Rating'].value_counts()"
   ]
  },
  {
   "cell_type": "code",
   "execution_count": 39,
   "id": "7e85f0f2",
   "metadata": {},
   "outputs": [],
   "source": [
    "def convert_rating(rating):\n",
    "    if rating == 'AAA':\n",
    "        return 1\n",
    "    if rating == 'AA':\n",
    "        return 2\n",
    "    if rating == 'A':\n",
    "        return 3\n",
    "    if rating == 'B':\n",
    "        return 4\n",
    "    if rating == 'C':\n",
    "        return 5"
   ]
  },
  {
   "cell_type": "code",
   "execution_count": 40,
   "id": "f6aaf853",
   "metadata": {},
   "outputs": [],
   "source": [
    "df['Rating_num'] = df['Rating'].apply(convert_rating)"
   ]
  },
  {
   "cell_type": "code",
   "execution_count": 41,
   "id": "91ac044c",
   "metadata": {},
   "outputs": [
    {
     "data": {
      "text/plain": [
       "2    4623\n",
       "1    2784\n",
       "3    2114\n",
       "4     888\n",
       "5     555\n",
       "Name: Rating_num, dtype: int64"
      ]
     },
     "execution_count": 41,
     "metadata": {},
     "output_type": "execute_result"
    }
   ],
   "source": [
    "df['Rating_num'].value_counts()"
   ]
  },
  {
   "cell_type": "markdown",
   "id": "e995d220",
   "metadata": {},
   "source": [
    "### Drop Rating"
   ]
  },
  {
   "cell_type": "code",
   "execution_count": 42,
   "id": "1d491f40",
   "metadata": {},
   "outputs": [],
   "source": [
    "df = df.drop('Rating', axis=1)"
   ]
  },
  {
   "cell_type": "markdown",
   "id": "d5937581",
   "metadata": {},
   "source": [
    "# Train Test Split"
   ]
  },
  {
   "cell_type": "code",
   "execution_count": 43,
   "id": "e77b321a",
   "metadata": {},
   "outputs": [],
   "source": [
    "X = df.drop('Rating_num', axis=1)\n",
    "y = df['Rating_num']"
   ]
  },
  {
   "cell_type": "code",
   "execution_count": 44,
   "id": "9792efcd",
   "metadata": {},
   "outputs": [],
   "source": [
    "from sklearn.model_selection import train_test_split"
   ]
  },
  {
   "cell_type": "code",
   "execution_count": 45,
   "id": "be161939",
   "metadata": {},
   "outputs": [],
   "source": [
    "X_train, X_test, y_train, y_test = train_test_split(X, y, test_size=0.25, random_state=101)"
   ]
  },
  {
   "cell_type": "markdown",
   "id": "2a783e4a",
   "metadata": {},
   "source": [
    "# Random Forest Model"
   ]
  },
  {
   "cell_type": "code",
   "execution_count": 46,
   "id": "d4149a92",
   "metadata": {},
   "outputs": [],
   "source": [
    "from sklearn.ensemble import RandomForestClassifier"
   ]
  },
  {
   "cell_type": "code",
   "execution_count": 47,
   "id": "8665c1f4",
   "metadata": {},
   "outputs": [],
   "source": [
    "rfc = RandomForestClassifier(n_estimators=500)"
   ]
  },
  {
   "cell_type": "code",
   "execution_count": 48,
   "id": "cc3d18c2",
   "metadata": {},
   "outputs": [
    {
     "data": {
      "text/plain": [
       "RandomForestClassifier(n_estimators=500)"
      ]
     },
     "execution_count": 48,
     "metadata": {},
     "output_type": "execute_result"
    }
   ],
   "source": [
    "rfc.fit(X_train,y_train)"
   ]
  },
  {
   "cell_type": "markdown",
   "id": "dd412ccf",
   "metadata": {},
   "source": [
    "## Predictions"
   ]
  },
  {
   "cell_type": "code",
   "execution_count": 49,
   "id": "d273fd5e",
   "metadata": {},
   "outputs": [],
   "source": [
    "predictions = rfc.predict(X_test)"
   ]
  },
  {
   "cell_type": "code",
   "execution_count": 50,
   "id": "b331abe8",
   "metadata": {},
   "outputs": [
    {
     "data": {
      "text/plain": [
       "<AxesSubplot:ylabel='count'>"
      ]
     },
     "execution_count": 50,
     "metadata": {},
     "output_type": "execute_result"
    },
    {
     "data": {
      "image/png": "[encoded data removed]",
      "text/plain": [
       "<Figure size 432x288 with 1 Axes>"
      ]
     },
     "metadata": {},
     "output_type": "display_data"
    }
   ],
   "source": [
    "sns.countplot(x=predictions)"
   ]
  },
  {
   "cell_type": "markdown",
   "id": "844b7f21",
   "metadata": {},
   "source": [
    "## Evaluate Predictions"
   ]
  },
  {
   "cell_type": "code",
   "execution_count": 51,
   "id": "28464b2d",
   "metadata": {},
   "outputs": [],
   "source": [
    "from sklearn.metrics import classification_report, confusion_matrix"
   ]
  },
  {
   "cell_type": "code",
   "execution_count": 52,
   "id": "2fe5c836",
   "metadata": {},
   "outputs": [
    {
     "name": "stdout",
     "output_type": "stream",
     "text": [
      "              precision    recall  f1-score   support\n",
      "\n",
      "           1       0.79      0.72      0.75       738\n",
      "           2       0.75      0.84      0.79      1135\n",
      "           3       0.75      0.75      0.75       519\n",
      "           4       0.83      0.63      0.72       205\n",
      "           5       0.84      0.66      0.74       144\n",
      "\n",
      "    accuracy                           0.77      2741\n",
      "   macro avg       0.79      0.72      0.75      2741\n",
      "weighted avg       0.77      0.77      0.76      2741\n",
      "\n",
      "\n",
      "\n",
      "[[533 194  10   1   0]\n",
      " [131 955  46   2   1]\n",
      " [ 11 105 387   9   7]\n",
      " [  2  15  49 129  10]\n",
      " [  0  12  23  14  95]]\n"
     ]
    }
   ],
   "source": [
    "print(classification_report(y_test, predictions))\n",
    "print('\\n')\n",
    "print(confusion_matrix(y_test, predictions))"
   ]
  },
  {
   "cell_type": "markdown",
   "id": "ebbfd649",
   "metadata": {},
   "source": [
    "# Predict test.csv"
   ]
  },
  {
   "cell_type": "code",
   "execution_count": 53,
   "id": "455092b9",
   "metadata": {},
   "outputs": [],
   "source": [
    "df_test = pd.read_csv('test.csv', index_col='company_id')"
   ]
  },
  {
   "cell_type": "code",
   "execution_count": 54,
   "id": "efd357cb",
   "metadata": {},
   "outputs": [
    {
     "data": {
      "text/html": [
       "<div>\n",
       "<style scoped>\n",
       "    .dataframe tbody tr th:only-of-type {\n",
       "        vertical-align: middle;\n",
       "    }\n",
       "\n",
       "    .dataframe tbody tr th {\n",
       "        vertical-align: top;\n",
       "    }\n",
       "\n",
       "    .dataframe thead th {\n",
       "        text-align: right;\n",
       "    }\n",
       "</style>\n",
       "<table border=\"1\" class=\"dataframe\">\n",
       "  <thead>\n",
       "    <tr style=\"text-align: right;\">\n",
       "      <th></th>\n",
       "      <th>payment_note_date</th>\n",
       "      <th>payment_note_amount</th>\n",
       "      <th>financials_date</th>\n",
       "      <th>financials_date-1</th>\n",
       "      <th>financials_date-2</th>\n",
       "      <th>financials_date-3</th>\n",
       "      <th>financials_date-4</th>\n",
       "      <th>revenue</th>\n",
       "      <th>revenue-1</th>\n",
       "      <th>revenue-2</th>\n",
       "      <th>...</th>\n",
       "      <th>profit_margin</th>\n",
       "      <th>profit_margin-1</th>\n",
       "      <th>profit_margin-2</th>\n",
       "      <th>profit_margin-3</th>\n",
       "      <th>profit_margin-4</th>\n",
       "      <th>cash_ratio</th>\n",
       "      <th>cash_ratio-1</th>\n",
       "      <th>cash_ratio-2</th>\n",
       "      <th>cash_ratio-3</th>\n",
       "      <th>cash_ratio-4</th>\n",
       "    </tr>\n",
       "    <tr>\n",
       "      <th>company_id</th>\n",
       "      <th></th>\n",
       "      <th></th>\n",
       "      <th></th>\n",
       "      <th></th>\n",
       "      <th></th>\n",
       "      <th></th>\n",
       "      <th></th>\n",
       "      <th></th>\n",
       "      <th></th>\n",
       "      <th></th>\n",
       "      <th></th>\n",
       "      <th></th>\n",
       "      <th></th>\n",
       "      <th></th>\n",
       "      <th></th>\n",
       "      <th></th>\n",
       "      <th></th>\n",
       "      <th></th>\n",
       "      <th></th>\n",
       "      <th></th>\n",
       "      <th></th>\n",
       "    </tr>\n",
       "  </thead>\n",
       "  <tbody>\n",
       "    <tr>\n",
       "      <th>10965</th>\n",
       "      <td>NaN</td>\n",
       "      <td>NaN</td>\n",
       "      <td>Dec-17</td>\n",
       "      <td>Dec-16</td>\n",
       "      <td>Dec-15</td>\n",
       "      <td>Dec-14</td>\n",
       "      <td>NaN</td>\n",
       "      <td>4617</td>\n",
       "      <td>3760.0</td>\n",
       "      <td>2774.0</td>\n",
       "      <td>...</td>\n",
       "      <td>23.1</td>\n",
       "      <td>9.5</td>\n",
       "      <td>-0.3</td>\n",
       "      <td>5.1</td>\n",
       "      <td>NaN</td>\n",
       "      <td>48.0</td>\n",
       "      <td>112.9</td>\n",
       "      <td>74.9</td>\n",
       "      <td>46.7</td>\n",
       "      <td>NaN</td>\n",
       "    </tr>\n",
       "    <tr>\n",
       "      <th>10966</th>\n",
       "      <td>NaN</td>\n",
       "      <td>NaN</td>\n",
       "      <td>Dec-17</td>\n",
       "      <td>Dec-16</td>\n",
       "      <td>Dec-15</td>\n",
       "      <td>Dec-14</td>\n",
       "      <td>Dec-13</td>\n",
       "      <td>5446</td>\n",
       "      <td>5529.0</td>\n",
       "      <td>5732.0</td>\n",
       "      <td>...</td>\n",
       "      <td>1.7</td>\n",
       "      <td>0.8</td>\n",
       "      <td>0.3</td>\n",
       "      <td>0.6</td>\n",
       "      <td>-1.3</td>\n",
       "      <td>30.2</td>\n",
       "      <td>35.2</td>\n",
       "      <td>44.9</td>\n",
       "      <td>48.6</td>\n",
       "      <td>39.7</td>\n",
       "    </tr>\n",
       "    <tr>\n",
       "      <th>10967</th>\n",
       "      <td>NaN</td>\n",
       "      <td>NaN</td>\n",
       "      <td>Apr-18</td>\n",
       "      <td>Apr-17</td>\n",
       "      <td>Apr-16</td>\n",
       "      <td>Apr-15</td>\n",
       "      <td>Apr-14</td>\n",
       "      <td>8087</td>\n",
       "      <td>6872.0</td>\n",
       "      <td>7200.0</td>\n",
       "      <td>...</td>\n",
       "      <td>20.0</td>\n",
       "      <td>11.3</td>\n",
       "      <td>15.9</td>\n",
       "      <td>21.8</td>\n",
       "      <td>13.4</td>\n",
       "      <td>273.9</td>\n",
       "      <td>239.3</td>\n",
       "      <td>296.9</td>\n",
       "      <td>631.8</td>\n",
       "      <td>568.1</td>\n",
       "    </tr>\n",
       "    <tr>\n",
       "      <th>10968</th>\n",
       "      <td>NaN</td>\n",
       "      <td>NaN</td>\n",
       "      <td>Dec-17</td>\n",
       "      <td>Dec-16</td>\n",
       "      <td>Dec-15</td>\n",
       "      <td>Dec-14</td>\n",
       "      <td>Dec-13</td>\n",
       "      <td>9507</td>\n",
       "      <td>7449.0</td>\n",
       "      <td>4940.0</td>\n",
       "      <td>...</td>\n",
       "      <td>25.9</td>\n",
       "      <td>23.1</td>\n",
       "      <td>11.7</td>\n",
       "      <td>5.8</td>\n",
       "      <td>12.5</td>\n",
       "      <td>115.6</td>\n",
       "      <td>89.9</td>\n",
       "      <td>102.5</td>\n",
       "      <td>80.8</td>\n",
       "      <td>86.2</td>\n",
       "    </tr>\n",
       "    <tr>\n",
       "      <th>10969</th>\n",
       "      <td>NaN</td>\n",
       "      <td>0.0</td>\n",
       "      <td>Jun-18</td>\n",
       "      <td>Jun-17</td>\n",
       "      <td>Jun-16</td>\n",
       "      <td>Jun-15</td>\n",
       "      <td>Jun-14</td>\n",
       "      <td>45618</td>\n",
       "      <td>48085.0</td>\n",
       "      <td>50221.0</td>\n",
       "      <td>...</td>\n",
       "      <td>13.2</td>\n",
       "      <td>9.8</td>\n",
       "      <td>18.0</td>\n",
       "      <td>10.5</td>\n",
       "      <td>14.6</td>\n",
       "      <td>190.2</td>\n",
       "      <td>181.1</td>\n",
       "      <td>186.9</td>\n",
       "      <td>151.6</td>\n",
       "      <td>158.7</td>\n",
       "    </tr>\n",
       "  </tbody>\n",
       "</table>\n",
       "<p>5 rows × 57 columns</p>\n",
       "</div>"
      ],
      "text/plain": [
       "           payment_note_date  payment_note_amount financials_date  \\\n",
       "company_id                                                          \n",
       "10965                    NaN                  NaN          Dec-17   \n",
       "10966                    NaN                  NaN          Dec-17   \n",
       "10967                    NaN                  NaN          Apr-18   \n",
       "10968                    NaN                  NaN          Dec-17   \n",
       "10969                    NaN                  0.0          Jun-18   \n",
       "\n",
       "           financials_date-1 financials_date-2 financials_date-3  \\\n",
       "company_id                                                         \n",
       "10965                 Dec-16            Dec-15            Dec-14   \n",
       "10966                 Dec-16            Dec-15            Dec-14   \n",
       "10967                 Apr-17            Apr-16            Apr-15   \n",
       "10968                 Dec-16            Dec-15            Dec-14   \n",
       "10969                 Jun-17            Jun-16            Jun-15   \n",
       "\n",
       "           financials_date-4  revenue  revenue-1  revenue-2  ...  \\\n",
       "company_id                                                   ...   \n",
       "10965                    NaN     4617     3760.0     2774.0  ...   \n",
       "10966                 Dec-13     5446     5529.0     5732.0  ...   \n",
       "10967                 Apr-14     8087     6872.0     7200.0  ...   \n",
       "10968                 Dec-13     9507     7449.0     4940.0  ...   \n",
       "10969                 Jun-14    45618    48085.0    50221.0  ...   \n",
       "\n",
       "            profit_margin  profit_margin-1  profit_margin-2  profit_margin-3  \\\n",
       "company_id                                                                     \n",
       "10965                23.1              9.5             -0.3              5.1   \n",
       "10966                 1.7              0.8              0.3              0.6   \n",
       "10967                20.0             11.3             15.9             21.8   \n",
       "10968                25.9             23.1             11.7              5.8   \n",
       "10969                13.2              9.8             18.0             10.5   \n",
       "\n",
       "            profit_margin-4  cash_ratio  cash_ratio-1  cash_ratio-2  \\\n",
       "company_id                                                            \n",
       "10965                   NaN        48.0         112.9          74.9   \n",
       "10966                  -1.3        30.2          35.2          44.9   \n",
       "10967                  13.4       273.9         239.3         296.9   \n",
       "10968                  12.5       115.6          89.9         102.5   \n",
       "10969                  14.6       190.2         181.1         186.9   \n",
       "\n",
       "            cash_ratio-3  cash_ratio-4  \n",
       "company_id                              \n",
       "10965               46.7           NaN  \n",
       "10966               48.6          39.7  \n",
       "10967              631.8         568.1  \n",
       "10968               80.8          86.2  \n",
       "10969              151.6         158.7  \n",
       "\n",
       "[5 rows x 57 columns]"
      ]
     },
     "execution_count": 54,
     "metadata": {},
     "output_type": "execute_result"
    }
   ],
   "source": [
    "df_test.head()"
   ]
  },
  {
   "cell_type": "code",
   "execution_count": 55,
   "id": "02b1f24c",
   "metadata": {},
   "outputs": [
    {
     "data": {
      "text/plain": [
       "payment_note_date                     2465\n",
       "payment_note_amount                   1778\n",
       "financials_date                          0\n",
       "financials_date-1                       55\n",
       "financials_date-2                      189\n",
       "financials_date-3                      340\n",
       "financials_date-4                      473\n",
       "revenue                                  0\n",
       "revenue-1                               55\n",
       "revenue-2                              189\n",
       "revenue-3                              340\n",
       "revenue-4                              473\n",
       "net_sales                                0\n",
       "net_sales-1                             55\n",
       "net_sales-2                            189\n",
       "net_sales-3                            340\n",
       "net_sales-4                            473\n",
       "profit_after_net_financial_items         0\n",
       "profit_after_net_financial_items-1      55\n",
       "profit_after_net_financial_items-2     189\n",
       "profit_after_net_financial_items-3     340\n",
       "profit_after_net_financial_items-4     473\n",
       "profit                                   0\n",
       "profit-1                                55\n",
       "profit-2                               189\n",
       "profit-3                               340\n",
       "profit-4                               473\n",
       "assets                                   0\n",
       "assets-1                                55\n",
       "assets-2                               189\n",
       "assets-3                               340\n",
       "assets-4                               473\n",
       "lt_liabilities                           0\n",
       "lt_liabilities-1                        55\n",
       "lt_liabilities-2                       189\n",
       "lt_liabilities-3                       340\n",
       "lt_liabilities-4                       473\n",
       "equity                                   0\n",
       "equity-1                                55\n",
       "equity-2                               189\n",
       "equity-3                               340\n",
       "equity-4                               473\n",
       "equity_ratio                             0\n",
       "equity_ratio-1                          55\n",
       "equity_ratio-2                         189\n",
       "equity_ratio-3                         340\n",
       "equity_ratio-4                         473\n",
       "profit_margin                            0\n",
       "profit_margin-1                         55\n",
       "profit_margin-2                        189\n",
       "profit_margin-3                        340\n",
       "profit_margin-4                        473\n",
       "cash_ratio                               0\n",
       "cash_ratio-1                            55\n",
       "cash_ratio-2                           189\n",
       "cash_ratio-3                           340\n",
       "cash_ratio-4                           473\n",
       "dtype: int64"
      ]
     },
     "execution_count": 55,
     "metadata": {},
     "output_type": "execute_result"
    }
   ],
   "source": [
    "df_test.isnull().sum()"
   ]
  },
  {
   "cell_type": "markdown",
   "id": "6b6bbc43",
   "metadata": {},
   "source": [
    "## Preparing Data\n",
    "### Creating dummy variable for payment note date"
   ]
  },
  {
   "cell_type": "code",
   "execution_count": 56,
   "id": "712cb296",
   "metadata": {},
   "outputs": [],
   "source": [
    "df_test['payment_note_date'] = pd.get_dummies(df_test['payment_note_date'].isnull(), drop_first=True)"
   ]
  },
  {
   "cell_type": "markdown",
   "id": "6529dfba",
   "metadata": {},
   "source": [
    "### Set NaN values to 0 in payment note amount"
   ]
  },
  {
   "cell_type": "code",
   "execution_count": 57,
   "id": "a66f7fdf",
   "metadata": {},
   "outputs": [],
   "source": [
    "df_test['payment_note_amount'] = df_test['payment_note_amount'].replace(to_replace=np.nan, value=0)"
   ]
  },
  {
   "cell_type": "markdown",
   "id": "94e2a180",
   "metadata": {},
   "source": [
    "### Drop financials date"
   ]
  },
  {
   "cell_type": "code",
   "execution_count": 58,
   "id": "849be794",
   "metadata": {},
   "outputs": [],
   "source": [
    "df_test = df_test.drop(['financials_date', 'financials_date-1', 'financials_date-2', 'financials_date-3', 'financials_date-4'], axis=1)"
   ]
  },
  {
   "cell_type": "markdown",
   "id": "d02f7dfb",
   "metadata": {},
   "source": [
    "### Replacing all the other features missing values with the mean of the features"
   ]
  },
  {
   "cell_type": "code",
   "execution_count": 59,
   "id": "ca88e067",
   "metadata": {},
   "outputs": [],
   "source": [
    "df_mean_feat = df_mean.mean()"
   ]
  },
  {
   "cell_type": "code",
   "execution_count": 60,
   "id": "64f4d24e",
   "metadata": {},
   "outputs": [],
   "source": [
    "#df_mean_feat"
   ]
  },
  {
   "cell_type": "code",
   "execution_count": 61,
   "id": "a8faa2ba",
   "metadata": {},
   "outputs": [],
   "source": [
    "i = 1\n",
    "while i < 5:\n",
    "    df_test[f'revenue-{i}'] = df_test[f'revenue-{i}'].replace(to_replace=np.nan, value=df_mean_feat[f'revenue-{i}'])\n",
    "    df_test[f'net_sales-{i}'] = df_test[f'net_sales-{i}'].replace(to_replace=np.nan, value=df_mean_feat[f'net_sales-{i}'])\n",
    "    df_test[f'profit_after_net_financial_items-{i}'] = df_test[f'profit_after_net_financial_items-{i}'].replace(to_replace=np.nan, value=df_mean_feat[f'profit_after_net_financial_items-{i}'])\n",
    "    df_test[f'profit-{i}'] = df_test[f'profit-{i}'].replace(to_replace=np.nan, value=df_mean_feat[f'profit-{i}'])\n",
    "    df_test[f'assets-{i}'] = df_test[f'assets-{i}'].replace(to_replace=np.nan, value=df_mean_feat[f'assets-{i}'])\n",
    "    df_test[f'lt_liabilities-{i}'] = df_test[f'lt_liabilities-{i}'].replace(to_replace=np.nan, value=df_mean_feat[f'lt_liabilities-{i}'])\n",
    "    df_test[f'equity-{i}'] = df_test[f'equity-{i}'].replace(to_replace=np.nan, value=df_mean_feat[f'equity-{i}'])\n",
    "    df_test[f'equity_ratio-{i}'] = df_test[f'equity_ratio-{i}'].replace(to_replace=np.nan, value=df_mean_feat[f'equity_ratio-{i}'])\n",
    "    df_test[f'profit_margin-{i}'] = df_test[f'profit_margin-{i}'].replace(to_replace=np.nan, value=df_mean_feat[f'profit_margin-{i}'])\n",
    "    df_test[f'cash_ratio-{i}'] = df_test[f'cash_ratio-{i}'].replace(to_replace=np.nan, value=df_mean_feat[f'cash_ratio-{i}'])\n",
    "    i+=1"
   ]
  },
  {
   "cell_type": "code",
   "execution_count": 62,
   "id": "f58fad6b",
   "metadata": {},
   "outputs": [],
   "source": [
    "#df_test.isnull().sum()"
   ]
  },
  {
   "cell_type": "markdown",
   "id": "b7956409",
   "metadata": {},
   "source": [
    "### Fixing equity ratio, profit margin and cash ratio values"
   ]
  },
  {
   "cell_type": "code",
   "execution_count": 63,
   "id": "d9fc3a08",
   "metadata": {},
   "outputs": [],
   "source": [
    "i = 1\n",
    "while i < 5:\n",
    "    df_test['equity_ratio'] = df_test['equity_ratio'].apply(fix_perc)\n",
    "    df_test[f'equity_ratio-{i}'] = df_test[f'equity_ratio-{i}'].apply(fix_perc)\n",
    "    df_test['profit_margin'] = df_test['profit_margin'].apply(fix_perc)\n",
    "    df_test[f'profit_margin-{i}'] = df_test[f'profit_margin-{i}'].apply(fix_perc)\n",
    "    df_test['cash_ratio'] = df_test['cash_ratio'].apply(fix_perc)\n",
    "    df_test[f'cash_ratio-{i}'] = df_test[f'cash_ratio-{i}'].apply(fix_perc)\n",
    "    i+=1"
   ]
  },
  {
   "cell_type": "markdown",
   "id": "3741b331",
   "metadata": {},
   "source": [
    "## Make Predictions on Test Data"
   ]
  },
  {
   "cell_type": "code",
   "execution_count": 64,
   "id": "79b35c1e",
   "metadata": {},
   "outputs": [],
   "source": [
    "pred = rfc.predict(df_test)"
   ]
  },
  {
   "cell_type": "code",
   "execution_count": 65,
   "id": "fc2b68dd",
   "metadata": {},
   "outputs": [
    {
     "data": {
      "text/plain": [
       "<AxesSubplot:ylabel='count'>"
      ]
     },
     "execution_count": 65,
     "metadata": {},
     "output_type": "execute_result"
    },
    {
     "data": {
      "image/png": "[encoded data removed]",
      "text/plain": [
       "<Figure size 720x432 with 1 Axes>"
      ]
     },
     "metadata": {},
     "output_type": "display_data"
    }
   ],
   "source": [
    "plt.figure(figsize=(10,6))\n",
    "sns.countplot(x=pred)"
   ]
  },
  {
   "cell_type": "code",
   "execution_count": 66,
   "id": "15ed7dac",
   "metadata": {},
   "outputs": [],
   "source": [
    "df_test['Rating_num'] = pred"
   ]
  },
  {
   "cell_type": "code",
   "execution_count": 67,
   "id": "b0b55e46",
   "metadata": {},
   "outputs": [
    {
     "data": {
      "text/html": [
       "<div>\n",
       "<style scoped>\n",
       "    .dataframe tbody tr th:only-of-type {\n",
       "        vertical-align: middle;\n",
       "    }\n",
       "\n",
       "    .dataframe tbody tr th {\n",
       "        vertical-align: top;\n",
       "    }\n",
       "\n",
       "    .dataframe thead th {\n",
       "        text-align: right;\n",
       "    }\n",
       "</style>\n",
       "<table border=\"1\" class=\"dataframe\">\n",
       "  <thead>\n",
       "    <tr style=\"text-align: right;\">\n",
       "      <th></th>\n",
       "      <th>payment_note_date</th>\n",
       "      <th>payment_note_amount</th>\n",
       "      <th>revenue</th>\n",
       "      <th>revenue-1</th>\n",
       "      <th>revenue-2</th>\n",
       "      <th>revenue-3</th>\n",
       "      <th>revenue-4</th>\n",
       "      <th>net_sales</th>\n",
       "      <th>net_sales-1</th>\n",
       "      <th>net_sales-2</th>\n",
       "      <th>...</th>\n",
       "      <th>profit_margin-1</th>\n",
       "      <th>profit_margin-2</th>\n",
       "      <th>profit_margin-3</th>\n",
       "      <th>profit_margin-4</th>\n",
       "      <th>cash_ratio</th>\n",
       "      <th>cash_ratio-1</th>\n",
       "      <th>cash_ratio-2</th>\n",
       "      <th>cash_ratio-3</th>\n",
       "      <th>cash_ratio-4</th>\n",
       "      <th>Rating_num</th>\n",
       "    </tr>\n",
       "    <tr>\n",
       "      <th>company_id</th>\n",
       "      <th></th>\n",
       "      <th></th>\n",
       "      <th></th>\n",
       "      <th></th>\n",
       "      <th></th>\n",
       "      <th></th>\n",
       "      <th></th>\n",
       "      <th></th>\n",
       "      <th></th>\n",
       "      <th></th>\n",
       "      <th></th>\n",
       "      <th></th>\n",
       "      <th></th>\n",
       "      <th></th>\n",
       "      <th></th>\n",
       "      <th></th>\n",
       "      <th></th>\n",
       "      <th></th>\n",
       "      <th></th>\n",
       "      <th></th>\n",
       "      <th></th>\n",
       "    </tr>\n",
       "  </thead>\n",
       "  <tbody>\n",
       "    <tr>\n",
       "      <th>10965</th>\n",
       "      <td>1</td>\n",
       "      <td>0.0</td>\n",
       "      <td>4617</td>\n",
       "      <td>3760.0</td>\n",
       "      <td>2774.0</td>\n",
       "      <td>1989.0</td>\n",
       "      <td>10700.812907</td>\n",
       "      <td>4081</td>\n",
       "      <td>3645.0</td>\n",
       "      <td>2619.0</td>\n",
       "      <td>...</td>\n",
       "      <td>9.5</td>\n",
       "      <td>0.0</td>\n",
       "      <td>5.1</td>\n",
       "      <td>0.0</td>\n",
       "      <td>48.0</td>\n",
       "      <td>100.0</td>\n",
       "      <td>74.9</td>\n",
       "      <td>46.7</td>\n",
       "      <td>100.0</td>\n",
       "      <td>3</td>\n",
       "    </tr>\n",
       "    <tr>\n",
       "      <th>10966</th>\n",
       "      <td>1</td>\n",
       "      <td>0.0</td>\n",
       "      <td>5446</td>\n",
       "      <td>5529.0</td>\n",
       "      <td>5732.0</td>\n",
       "      <td>5582.0</td>\n",
       "      <td>5164.000000</td>\n",
       "      <td>5510</td>\n",
       "      <td>5239.0</td>\n",
       "      <td>5665.0</td>\n",
       "      <td>...</td>\n",
       "      <td>0.8</td>\n",
       "      <td>0.3</td>\n",
       "      <td>0.6</td>\n",
       "      <td>0.0</td>\n",
       "      <td>30.2</td>\n",
       "      <td>35.2</td>\n",
       "      <td>44.9</td>\n",
       "      <td>48.6</td>\n",
       "      <td>39.7</td>\n",
       "      <td>3</td>\n",
       "    </tr>\n",
       "    <tr>\n",
       "      <th>10967</th>\n",
       "      <td>1</td>\n",
       "      <td>0.0</td>\n",
       "      <td>8087</td>\n",
       "      <td>6872.0</td>\n",
       "      <td>7200.0</td>\n",
       "      <td>6923.0</td>\n",
       "      <td>6845.000000</td>\n",
       "      <td>8031</td>\n",
       "      <td>6797.0</td>\n",
       "      <td>7200.0</td>\n",
       "      <td>...</td>\n",
       "      <td>11.3</td>\n",
       "      <td>15.9</td>\n",
       "      <td>21.8</td>\n",
       "      <td>13.4</td>\n",
       "      <td>100.0</td>\n",
       "      <td>100.0</td>\n",
       "      <td>100.0</td>\n",
       "      <td>100.0</td>\n",
       "      <td>100.0</td>\n",
       "      <td>1</td>\n",
       "    </tr>\n",
       "    <tr>\n",
       "      <th>10968</th>\n",
       "      <td>1</td>\n",
       "      <td>0.0</td>\n",
       "      <td>9507</td>\n",
       "      <td>7449.0</td>\n",
       "      <td>4940.0</td>\n",
       "      <td>4478.0</td>\n",
       "      <td>4966.000000</td>\n",
       "      <td>8874</td>\n",
       "      <td>7109.0</td>\n",
       "      <td>4940.0</td>\n",
       "      <td>...</td>\n",
       "      <td>23.1</td>\n",
       "      <td>11.7</td>\n",
       "      <td>5.8</td>\n",
       "      <td>12.5</td>\n",
       "      <td>100.0</td>\n",
       "      <td>89.9</td>\n",
       "      <td>100.0</td>\n",
       "      <td>80.8</td>\n",
       "      <td>86.2</td>\n",
       "      <td>2</td>\n",
       "    </tr>\n",
       "    <tr>\n",
       "      <th>10969</th>\n",
       "      <td>1</td>\n",
       "      <td>0.0</td>\n",
       "      <td>45618</td>\n",
       "      <td>48085.0</td>\n",
       "      <td>50221.0</td>\n",
       "      <td>35558.0</td>\n",
       "      <td>30520.000000</td>\n",
       "      <td>45304</td>\n",
       "      <td>47484.0</td>\n",
       "      <td>49508.0</td>\n",
       "      <td>...</td>\n",
       "      <td>9.8</td>\n",
       "      <td>18.0</td>\n",
       "      <td>10.5</td>\n",
       "      <td>14.6</td>\n",
       "      <td>100.0</td>\n",
       "      <td>100.0</td>\n",
       "      <td>100.0</td>\n",
       "      <td>100.0</td>\n",
       "      <td>100.0</td>\n",
       "      <td>1</td>\n",
       "    </tr>\n",
       "  </tbody>\n",
       "</table>\n",
       "<p>5 rows × 53 columns</p>\n",
       "</div>"
      ],
      "text/plain": [
       "            payment_note_date  payment_note_amount  revenue  revenue-1  \\\n",
       "company_id                                                               \n",
       "10965                       1                  0.0     4617     3760.0   \n",
       "10966                       1                  0.0     5446     5529.0   \n",
       "10967                       1                  0.0     8087     6872.0   \n",
       "10968                       1                  0.0     9507     7449.0   \n",
       "10969                       1                  0.0    45618    48085.0   \n",
       "\n",
       "            revenue-2  revenue-3     revenue-4  net_sales  net_sales-1  \\\n",
       "company_id                                                               \n",
       "10965          2774.0     1989.0  10700.812907       4081       3645.0   \n",
       "10966          5732.0     5582.0   5164.000000       5510       5239.0   \n",
       "10967          7200.0     6923.0   6845.000000       8031       6797.0   \n",
       "10968          4940.0     4478.0   4966.000000       8874       7109.0   \n",
       "10969         50221.0    35558.0  30520.000000      45304      47484.0   \n",
       "\n",
       "            net_sales-2  ...  profit_margin-1  profit_margin-2  \\\n",
       "company_id               ...                                     \n",
       "10965            2619.0  ...              9.5              0.0   \n",
       "10966            5665.0  ...              0.8              0.3   \n",
       "10967            7200.0  ...             11.3             15.9   \n",
       "10968            4940.0  ...             23.1             11.7   \n",
       "10969           49508.0  ...              9.8             18.0   \n",
       "\n",
       "            profit_margin-3  profit_margin-4  cash_ratio  cash_ratio-1  \\\n",
       "company_id                                                               \n",
       "10965                   5.1              0.0        48.0         100.0   \n",
       "10966                   0.6              0.0        30.2          35.2   \n",
       "10967                  21.8             13.4       100.0         100.0   \n",
       "10968                   5.8             12.5       100.0          89.9   \n",
       "10969                  10.5             14.6       100.0         100.0   \n",
       "\n",
       "            cash_ratio-2  cash_ratio-3  cash_ratio-4  Rating_num  \n",
       "company_id                                                        \n",
       "10965               74.9          46.7         100.0           3  \n",
       "10966               44.9          48.6          39.7           3  \n",
       "10967              100.0         100.0         100.0           1  \n",
       "10968              100.0          80.8          86.2           2  \n",
       "10969              100.0         100.0         100.0           1  \n",
       "\n",
       "[5 rows x 53 columns]"
      ]
     },
     "execution_count": 67,
     "metadata": {},
     "output_type": "execute_result"
    }
   ],
   "source": [
    "df_test.head()"
   ]
  },
  {
   "cell_type": "code",
   "execution_count": 68,
   "id": "a50f3a1c",
   "metadata": {},
   "outputs": [],
   "source": [
    "def rating_convert(num):\n",
    "    if num == 1:\n",
    "        return 'AAA'\n",
    "    if num == 2:\n",
    "        return 'AA'\n",
    "    if num == 3:\n",
    "        return 'A'\n",
    "    if num == 4:\n",
    "        return 'B'\n",
    "    if num == 5:\n",
    "        return 'C'"
   ]
  },
  {
   "cell_type": "code",
   "execution_count": 69,
   "id": "20034129",
   "metadata": {},
   "outputs": [],
   "source": [
    "df_test['Rating'] = df_test['Rating_num'].apply(rating_convert)"
   ]
  },
  {
   "cell_type": "code",
   "execution_count": 70,
   "id": "fbf4eef5",
   "metadata": {},
   "outputs": [
    {
     "data": {
      "text/html": [
       "<div>\n",
       "<style scoped>\n",
       "    .dataframe tbody tr th:only-of-type {\n",
       "        vertical-align: middle;\n",
       "    }\n",
       "\n",
       "    .dataframe tbody tr th {\n",
       "        vertical-align: top;\n",
       "    }\n",
       "\n",
       "    .dataframe thead th {\n",
       "        text-align: right;\n",
       "    }\n",
       "</style>\n",
       "<table border=\"1\" class=\"dataframe\">\n",
       "  <thead>\n",
       "    <tr style=\"text-align: right;\">\n",
       "      <th></th>\n",
       "      <th>payment_note_date</th>\n",
       "      <th>payment_note_amount</th>\n",
       "      <th>revenue</th>\n",
       "      <th>revenue-1</th>\n",
       "      <th>revenue-2</th>\n",
       "      <th>revenue-3</th>\n",
       "      <th>revenue-4</th>\n",
       "      <th>net_sales</th>\n",
       "      <th>net_sales-1</th>\n",
       "      <th>net_sales-2</th>\n",
       "      <th>...</th>\n",
       "      <th>profit_margin-2</th>\n",
       "      <th>profit_margin-3</th>\n",
       "      <th>profit_margin-4</th>\n",
       "      <th>cash_ratio</th>\n",
       "      <th>cash_ratio-1</th>\n",
       "      <th>cash_ratio-2</th>\n",
       "      <th>cash_ratio-3</th>\n",
       "      <th>cash_ratio-4</th>\n",
       "      <th>Rating_num</th>\n",
       "      <th>Rating</th>\n",
       "    </tr>\n",
       "    <tr>\n",
       "      <th>company_id</th>\n",
       "      <th></th>\n",
       "      <th></th>\n",
       "      <th></th>\n",
       "      <th></th>\n",
       "      <th></th>\n",
       "      <th></th>\n",
       "      <th></th>\n",
       "      <th></th>\n",
       "      <th></th>\n",
       "      <th></th>\n",
       "      <th></th>\n",
       "      <th></th>\n",
       "      <th></th>\n",
       "      <th></th>\n",
       "      <th></th>\n",
       "      <th></th>\n",
       "      <th></th>\n",
       "      <th></th>\n",
       "      <th></th>\n",
       "      <th></th>\n",
       "      <th></th>\n",
       "    </tr>\n",
       "  </thead>\n",
       "  <tbody>\n",
       "    <tr>\n",
       "      <th>10965</th>\n",
       "      <td>1</td>\n",
       "      <td>0.0</td>\n",
       "      <td>4617</td>\n",
       "      <td>3760.0</td>\n",
       "      <td>2774.0</td>\n",
       "      <td>1989.0</td>\n",
       "      <td>10700.812907</td>\n",
       "      <td>4081</td>\n",
       "      <td>3645.0</td>\n",
       "      <td>2619.0</td>\n",
       "      <td>...</td>\n",
       "      <td>0.0</td>\n",
       "      <td>5.1</td>\n",
       "      <td>0.0</td>\n",
       "      <td>48.0</td>\n",
       "      <td>100.0</td>\n",
       "      <td>74.9</td>\n",
       "      <td>46.7</td>\n",
       "      <td>100.0</td>\n",
       "      <td>3</td>\n",
       "      <td>A</td>\n",
       "    </tr>\n",
       "    <tr>\n",
       "      <th>10966</th>\n",
       "      <td>1</td>\n",
       "      <td>0.0</td>\n",
       "      <td>5446</td>\n",
       "      <td>5529.0</td>\n",
       "      <td>5732.0</td>\n",
       "      <td>5582.0</td>\n",
       "      <td>5164.000000</td>\n",
       "      <td>5510</td>\n",
       "      <td>5239.0</td>\n",
       "      <td>5665.0</td>\n",
       "      <td>...</td>\n",
       "      <td>0.3</td>\n",
       "      <td>0.6</td>\n",
       "      <td>0.0</td>\n",
       "      <td>30.2</td>\n",
       "      <td>35.2</td>\n",
       "      <td>44.9</td>\n",
       "      <td>48.6</td>\n",
       "      <td>39.7</td>\n",
       "      <td>3</td>\n",
       "      <td>A</td>\n",
       "    </tr>\n",
       "    <tr>\n",
       "      <th>10967</th>\n",
       "      <td>1</td>\n",
       "      <td>0.0</td>\n",
       "      <td>8087</td>\n",
       "      <td>6872.0</td>\n",
       "      <td>7200.0</td>\n",
       "      <td>6923.0</td>\n",
       "      <td>6845.000000</td>\n",
       "      <td>8031</td>\n",
       "      <td>6797.0</td>\n",
       "      <td>7200.0</td>\n",
       "      <td>...</td>\n",
       "      <td>15.9</td>\n",
       "      <td>21.8</td>\n",
       "      <td>13.4</td>\n",
       "      <td>100.0</td>\n",
       "      <td>100.0</td>\n",
       "      <td>100.0</td>\n",
       "      <td>100.0</td>\n",
       "      <td>100.0</td>\n",
       "      <td>1</td>\n",
       "      <td>AAA</td>\n",
       "    </tr>\n",
       "    <tr>\n",
       "      <th>10968</th>\n",
       "      <td>1</td>\n",
       "      <td>0.0</td>\n",
       "      <td>9507</td>\n",
       "      <td>7449.0</td>\n",
       "      <td>4940.0</td>\n",
       "      <td>4478.0</td>\n",
       "      <td>4966.000000</td>\n",
       "      <td>8874</td>\n",
       "      <td>7109.0</td>\n",
       "      <td>4940.0</td>\n",
       "      <td>...</td>\n",
       "      <td>11.7</td>\n",
       "      <td>5.8</td>\n",
       "      <td>12.5</td>\n",
       "      <td>100.0</td>\n",
       "      <td>89.9</td>\n",
       "      <td>100.0</td>\n",
       "      <td>80.8</td>\n",
       "      <td>86.2</td>\n",
       "      <td>2</td>\n",
       "      <td>AA</td>\n",
       "    </tr>\n",
       "    <tr>\n",
       "      <th>10969</th>\n",
       "      <td>1</td>\n",
       "      <td>0.0</td>\n",
       "      <td>45618</td>\n",
       "      <td>48085.0</td>\n",
       "      <td>50221.0</td>\n",
       "      <td>35558.0</td>\n",
       "      <td>30520.000000</td>\n",
       "      <td>45304</td>\n",
       "      <td>47484.0</td>\n",
       "      <td>49508.0</td>\n",
       "      <td>...</td>\n",
       "      <td>18.0</td>\n",
       "      <td>10.5</td>\n",
       "      <td>14.6</td>\n",
       "      <td>100.0</td>\n",
       "      <td>100.0</td>\n",
       "      <td>100.0</td>\n",
       "      <td>100.0</td>\n",
       "      <td>100.0</td>\n",
       "      <td>1</td>\n",
       "      <td>AAA</td>\n",
       "    </tr>\n",
       "  </tbody>\n",
       "</table>\n",
       "<p>5 rows × 54 columns</p>\n",
       "</div>"
      ],
      "text/plain": [
       "            payment_note_date  payment_note_amount  revenue  revenue-1  \\\n",
       "company_id                                                               \n",
       "10965                       1                  0.0     4617     3760.0   \n",
       "10966                       1                  0.0     5446     5529.0   \n",
       "10967                       1                  0.0     8087     6872.0   \n",
       "10968                       1                  0.0     9507     7449.0   \n",
       "10969                       1                  0.0    45618    48085.0   \n",
       "\n",
       "            revenue-2  revenue-3     revenue-4  net_sales  net_sales-1  \\\n",
       "company_id                                                               \n",
       "10965          2774.0     1989.0  10700.812907       4081       3645.0   \n",
       "10966          5732.0     5582.0   5164.000000       5510       5239.0   \n",
       "10967          7200.0     6923.0   6845.000000       8031       6797.0   \n",
       "10968          4940.0     4478.0   4966.000000       8874       7109.0   \n",
       "10969         50221.0    35558.0  30520.000000      45304      47484.0   \n",
       "\n",
       "            net_sales-2  ...  profit_margin-2  profit_margin-3  \\\n",
       "company_id               ...                                     \n",
       "10965            2619.0  ...              0.0              5.1   \n",
       "10966            5665.0  ...              0.3              0.6   \n",
       "10967            7200.0  ...             15.9             21.8   \n",
       "10968            4940.0  ...             11.7              5.8   \n",
       "10969           49508.0  ...             18.0             10.5   \n",
       "\n",
       "            profit_margin-4  cash_ratio  cash_ratio-1  cash_ratio-2  \\\n",
       "company_id                                                            \n",
       "10965                   0.0        48.0         100.0          74.9   \n",
       "10966                   0.0        30.2          35.2          44.9   \n",
       "10967                  13.4       100.0         100.0         100.0   \n",
       "10968                  12.5       100.0          89.9         100.0   \n",
       "10969                  14.6       100.0         100.0         100.0   \n",
       "\n",
       "            cash_ratio-3  cash_ratio-4  Rating_num  Rating  \n",
       "company_id                                                  \n",
       "10965               46.7         100.0           3       A  \n",
       "10966               48.6          39.7           3       A  \n",
       "10967              100.0         100.0           1     AAA  \n",
       "10968               80.8          86.2           2      AA  \n",
       "10969              100.0         100.0           1     AAA  \n",
       "\n",
       "[5 rows x 54 columns]"
      ]
     },
     "execution_count": 70,
     "metadata": {},
     "output_type": "execute_result"
    }
   ],
   "source": [
    "df_test.head()"
   ]
  },
  {
   "cell_type": "code",
   "execution_count": 71,
   "id": "6e3b5c09",
   "metadata": {},
   "outputs": [],
   "source": [
    "#df_test.to_csv(\"test_final.csv\")"
   ]
  },
  {
   "cell_type": "code",
   "execution_count": null,
   "id": "e24a3070",
   "metadata": {},
   "outputs": [],
   "source": []
  }
 ],
 "metadata": {
  "kernelspec": {
   "display_name": "Python 3.9 (tensorflow)",
   "language": "python",
   "name": "tensorflow"
  },
  "language_info": {
   "codemirror_mode": {
    "name": "ipython",
    "version": 3
   },
   "file_extension": ".py",
   "mimetype": "text/x-python",
   "name": "python",
   "nbconvert_exporter": "python",
   "pygments_lexer": "ipython3",
   "version": "3.9.12"
  }
 },
 "nbformat": 4,
 "nbformat_minor": 5
}
